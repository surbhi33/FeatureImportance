{
 "cells": [
  {
   "cell_type": "code",
   "execution_count": 5,
   "id": "9a46c4e5",
   "metadata": {},
   "outputs": [],
   "source": [
    "import numpy as np\n",
    "import pandas as pd\n",
    "import scipy.stats\n",
    "import sklearn\n",
    "from sklearn.base import clone\n",
    "from sklearn.metrics import r2_score \n",
    "import seaborn as sb\n",
    "import matplotlib.pyplot as plt\n",
    "from sklearn.metrics import r2_score \n",
    "import random\n",
    "import shap\n",
    "import sklearn.model_selection as ms\n",
    "from sklearn.preprocessing import MinMaxScaler\n",
    "import time\n",
    "from sklearn.inspection import permutation_importance\n",
    "from sklearn.datasets import load_boston,load_diabetes,fetch_california_housing,load_linnerud,load_iris\n",
    "from sklearn.feature_selection import f_regression\n",
    "from sklearn.ensemble import RandomForestRegressor\n",
    "from sklearn.datasets import make_regression\n",
    "from sklearn.linear_model import LinearRegression\n",
    "from sklearn.datasets import load_diabetes\n",
    "from sklearn.model_selection import train_test_split\n",
    "from sklearn.linear_model import Ridge\n",
    "import matplotlib.cm as cm\n",
    "from matplotlib.colors import Normalize\n",
    "from sklearn.decomposition import PCA\n",
    "import xgboost as xgb"
   ]
  },
  {
   "cell_type": "code",
   "execution_count": 6,
   "id": "3192b301",
   "metadata": {},
   "outputs": [
    {
     "name": "stderr",
     "output_type": "stream",
     "text": [
      "Function load_boston is deprecated; `load_boston` is deprecated in 1.0 and will be removed in 1.2.\n",
      "\n",
      "    The Boston housing prices dataset has an ethical problem. You can refer to\n",
      "    the documentation of this function for further details.\n",
      "\n",
      "    The scikit-learn maintainers therefore strongly discourage the use of this\n",
      "    dataset unless the purpose of the code is to study and educate about\n",
      "    ethical issues in data science and machine learning.\n",
      "\n",
      "    In this special case, you can fetch the dataset from the original\n",
      "    source::\n",
      "\n",
      "        import pandas as pd\n",
      "        import numpy as np\n",
      "\n",
      "\n",
      "        data_url = \"http://lib.stat.cmu.edu/datasets/boston\"\n",
      "        raw_df = pd.read_csv(data_url, sep=\"\\s+\", skiprows=22, header=None)\n",
      "        data = np.hstack([raw_df.values[::2, :], raw_df.values[1::2, :2]])\n",
      "        target = raw_df.values[1::2, 2]\n",
      "\n",
      "    Alternative datasets include the California housing dataset (i.e.\n",
      "    :func:`~sklearn.datasets.fetch_california_housing`) and the Ames housing\n",
      "    dataset. You can load the datasets as follows::\n",
      "\n",
      "        from sklearn.datasets import fetch_california_housing\n",
      "        housing = fetch_california_housing()\n",
      "\n",
      "    for the California housing dataset and::\n",
      "\n",
      "        from sklearn.datasets import fetch_openml\n",
      "        housing = fetch_openml(name=\"house_prices\", as_frame=True)\n",
      "\n",
      "    for the Ames housing dataset.\n",
      "    \n"
     ]
    }
   ],
   "source": [
    "boston = load_boston()"
   ]
  },
  {
   "cell_type": "code",
   "execution_count": 7,
   "id": "71b3b79a",
   "metadata": {},
   "outputs": [],
   "source": [
    "X = pd.DataFrame(boston.data, columns=boston.feature_names)\n",
    "y = boston.target"
   ]
  },
  {
   "cell_type": "code",
   "execution_count": 8,
   "id": "2b68ba0e",
   "metadata": {},
   "outputs": [],
   "source": [
    "X_train, X_val, y_train, y_val = train_test_split(X, y, random_state=0)"
   ]
  },
  {
   "cell_type": "code",
   "execution_count": 9,
   "id": "f7ec7d8f",
   "metadata": {},
   "outputs": [
    {
     "data": {
      "text/plain": [
       "(506, 13)"
      ]
     },
     "execution_count": 9,
     "metadata": {},
     "output_type": "execute_result"
    }
   ],
   "source": [
    "X.shape"
   ]
  },
  {
   "cell_type": "code",
   "execution_count": 10,
   "id": "984bca92",
   "metadata": {},
   "outputs": [
    {
     "data": {
      "text/plain": [
       "506"
      ]
     },
     "execution_count": 10,
     "metadata": {},
     "output_type": "execute_result"
    }
   ],
   "source": [
    "len(y)"
   ]
  },
  {
   "cell_type": "code",
   "execution_count": 11,
   "id": "d0668168",
   "metadata": {},
   "outputs": [
    {
     "data": {
      "text/html": [
       "<div>\n",
       "<style scoped>\n",
       "    .dataframe tbody tr th:only-of-type {\n",
       "        vertical-align: middle;\n",
       "    }\n",
       "\n",
       "    .dataframe tbody tr th {\n",
       "        vertical-align: top;\n",
       "    }\n",
       "\n",
       "    .dataframe thead th {\n",
       "        text-align: right;\n",
       "    }\n",
       "</style>\n",
       "<table border=\"1\" class=\"dataframe\">\n",
       "  <thead>\n",
       "    <tr style=\"text-align: right;\">\n",
       "      <th></th>\n",
       "      <th>CRIM</th>\n",
       "      <th>ZN</th>\n",
       "      <th>INDUS</th>\n",
       "      <th>CHAS</th>\n",
       "      <th>NOX</th>\n",
       "      <th>RM</th>\n",
       "      <th>AGE</th>\n",
       "      <th>DIS</th>\n",
       "      <th>RAD</th>\n",
       "      <th>TAX</th>\n",
       "      <th>PTRATIO</th>\n",
       "      <th>B</th>\n",
       "      <th>LSTAT</th>\n",
       "    </tr>\n",
       "  </thead>\n",
       "  <tbody>\n",
       "    <tr>\n",
       "      <th>count</th>\n",
       "      <td>506.000000</td>\n",
       "      <td>506.000000</td>\n",
       "      <td>506.000000</td>\n",
       "      <td>506.000000</td>\n",
       "      <td>506.000000</td>\n",
       "      <td>506.000000</td>\n",
       "      <td>506.000000</td>\n",
       "      <td>506.000000</td>\n",
       "      <td>506.000000</td>\n",
       "      <td>506.000000</td>\n",
       "      <td>506.000000</td>\n",
       "      <td>506.000000</td>\n",
       "      <td>506.000000</td>\n",
       "    </tr>\n",
       "    <tr>\n",
       "      <th>mean</th>\n",
       "      <td>3.613524</td>\n",
       "      <td>11.363636</td>\n",
       "      <td>11.136779</td>\n",
       "      <td>0.069170</td>\n",
       "      <td>0.554695</td>\n",
       "      <td>6.284634</td>\n",
       "      <td>68.574901</td>\n",
       "      <td>3.795043</td>\n",
       "      <td>9.549407</td>\n",
       "      <td>408.237154</td>\n",
       "      <td>18.455534</td>\n",
       "      <td>356.674032</td>\n",
       "      <td>12.653063</td>\n",
       "    </tr>\n",
       "    <tr>\n",
       "      <th>std</th>\n",
       "      <td>8.601545</td>\n",
       "      <td>23.322453</td>\n",
       "      <td>6.860353</td>\n",
       "      <td>0.253994</td>\n",
       "      <td>0.115878</td>\n",
       "      <td>0.702617</td>\n",
       "      <td>28.148861</td>\n",
       "      <td>2.105710</td>\n",
       "      <td>8.707259</td>\n",
       "      <td>168.537116</td>\n",
       "      <td>2.164946</td>\n",
       "      <td>91.294864</td>\n",
       "      <td>7.141062</td>\n",
       "    </tr>\n",
       "    <tr>\n",
       "      <th>min</th>\n",
       "      <td>0.006320</td>\n",
       "      <td>0.000000</td>\n",
       "      <td>0.460000</td>\n",
       "      <td>0.000000</td>\n",
       "      <td>0.385000</td>\n",
       "      <td>3.561000</td>\n",
       "      <td>2.900000</td>\n",
       "      <td>1.129600</td>\n",
       "      <td>1.000000</td>\n",
       "      <td>187.000000</td>\n",
       "      <td>12.600000</td>\n",
       "      <td>0.320000</td>\n",
       "      <td>1.730000</td>\n",
       "    </tr>\n",
       "    <tr>\n",
       "      <th>25%</th>\n",
       "      <td>0.082045</td>\n",
       "      <td>0.000000</td>\n",
       "      <td>5.190000</td>\n",
       "      <td>0.000000</td>\n",
       "      <td>0.449000</td>\n",
       "      <td>5.885500</td>\n",
       "      <td>45.025000</td>\n",
       "      <td>2.100175</td>\n",
       "      <td>4.000000</td>\n",
       "      <td>279.000000</td>\n",
       "      <td>17.400000</td>\n",
       "      <td>375.377500</td>\n",
       "      <td>6.950000</td>\n",
       "    </tr>\n",
       "    <tr>\n",
       "      <th>50%</th>\n",
       "      <td>0.256510</td>\n",
       "      <td>0.000000</td>\n",
       "      <td>9.690000</td>\n",
       "      <td>0.000000</td>\n",
       "      <td>0.538000</td>\n",
       "      <td>6.208500</td>\n",
       "      <td>77.500000</td>\n",
       "      <td>3.207450</td>\n",
       "      <td>5.000000</td>\n",
       "      <td>330.000000</td>\n",
       "      <td>19.050000</td>\n",
       "      <td>391.440000</td>\n",
       "      <td>11.360000</td>\n",
       "    </tr>\n",
       "    <tr>\n",
       "      <th>75%</th>\n",
       "      <td>3.677083</td>\n",
       "      <td>12.500000</td>\n",
       "      <td>18.100000</td>\n",
       "      <td>0.000000</td>\n",
       "      <td>0.624000</td>\n",
       "      <td>6.623500</td>\n",
       "      <td>94.075000</td>\n",
       "      <td>5.188425</td>\n",
       "      <td>24.000000</td>\n",
       "      <td>666.000000</td>\n",
       "      <td>20.200000</td>\n",
       "      <td>396.225000</td>\n",
       "      <td>16.955000</td>\n",
       "    </tr>\n",
       "    <tr>\n",
       "      <th>max</th>\n",
       "      <td>88.976200</td>\n",
       "      <td>100.000000</td>\n",
       "      <td>27.740000</td>\n",
       "      <td>1.000000</td>\n",
       "      <td>0.871000</td>\n",
       "      <td>8.780000</td>\n",
       "      <td>100.000000</td>\n",
       "      <td>12.126500</td>\n",
       "      <td>24.000000</td>\n",
       "      <td>711.000000</td>\n",
       "      <td>22.000000</td>\n",
       "      <td>396.900000</td>\n",
       "      <td>37.970000</td>\n",
       "    </tr>\n",
       "  </tbody>\n",
       "</table>\n",
       "</div>"
      ],
      "text/plain": [
       "             CRIM          ZN       INDUS        CHAS         NOX          RM  \\\n",
       "count  506.000000  506.000000  506.000000  506.000000  506.000000  506.000000   \n",
       "mean     3.613524   11.363636   11.136779    0.069170    0.554695    6.284634   \n",
       "std      8.601545   23.322453    6.860353    0.253994    0.115878    0.702617   \n",
       "min      0.006320    0.000000    0.460000    0.000000    0.385000    3.561000   \n",
       "25%      0.082045    0.000000    5.190000    0.000000    0.449000    5.885500   \n",
       "50%      0.256510    0.000000    9.690000    0.000000    0.538000    6.208500   \n",
       "75%      3.677083   12.500000   18.100000    0.000000    0.624000    6.623500   \n",
       "max     88.976200  100.000000   27.740000    1.000000    0.871000    8.780000   \n",
       "\n",
       "              AGE         DIS         RAD         TAX     PTRATIO           B  \\\n",
       "count  506.000000  506.000000  506.000000  506.000000  506.000000  506.000000   \n",
       "mean    68.574901    3.795043    9.549407  408.237154   18.455534  356.674032   \n",
       "std     28.148861    2.105710    8.707259  168.537116    2.164946   91.294864   \n",
       "min      2.900000    1.129600    1.000000  187.000000   12.600000    0.320000   \n",
       "25%     45.025000    2.100175    4.000000  279.000000   17.400000  375.377500   \n",
       "50%     77.500000    3.207450    5.000000  330.000000   19.050000  391.440000   \n",
       "75%     94.075000    5.188425   24.000000  666.000000   20.200000  396.225000   \n",
       "max    100.000000   12.126500   24.000000  711.000000   22.000000  396.900000   \n",
       "\n",
       "            LSTAT  \n",
       "count  506.000000  \n",
       "mean    12.653063  \n",
       "std      7.141062  \n",
       "min      1.730000  \n",
       "25%      6.950000  \n",
       "50%     11.360000  \n",
       "75%     16.955000  \n",
       "max     37.970000  "
      ]
     },
     "execution_count": 11,
     "metadata": {},
     "output_type": "execute_result"
    }
   ],
   "source": [
    "X.describe()"
   ]
  },
  {
   "cell_type": "code",
   "execution_count": 12,
   "id": "803b1a7a",
   "metadata": {},
   "outputs": [],
   "source": [
    "def mape(actual, pred): \n",
    "    actual, pred = np.array(actual), np.array(pred)\n",
    "    return np.mean(np.abs((actual - pred) / actual)) * 100"
   ]
  },
  {
   "cell_type": "code",
   "execution_count": 52,
   "id": "c9f60476",
   "metadata": {},
   "outputs": [],
   "source": [
    "#Spearman's Rank Two Variables and DataFrame"
   ]
  },
  {
   "cell_type": "code",
   "execution_count": 9,
   "id": "3d5a9e31",
   "metadata": {},
   "outputs": [],
   "source": [
    "def Spearman_correl(x,y):\n",
    "\n",
    "    x=np.array(x)\n",
    "    y=np.array(y)\n",
    "    x=np.array(pd.Series(x).rank())\n",
    "    y=np.array(pd.Series(y).rank())\n",
    "    xu=np.mean(x)\n",
    "    yu=np.mean(y)\n",
    "    Num= np.sum((x-xu)*(y-yu))\n",
    "    Den= np.sqrt(np.sum((x-xu)**2)*np.sum((y-yu)**2))\n",
    "    corr=Num/Den\n",
    "      \n",
    "    return \"{:.6f}\".format(corr)"
   ]
  },
  {
   "cell_type": "code",
   "execution_count": 10,
   "id": "d897d398",
   "metadata": {},
   "outputs": [
    {
     "data": {
      "text/plain": [
       "'0.456435'"
      ]
     },
     "execution_count": 10,
     "metadata": {},
     "output_type": "execute_result"
    }
   ],
   "source": [
    "x = [15,18,21, 15, 21]\n",
    "y_n= [25,25,27,27,27]\n",
    "Spearman_correl(x,y_n)"
   ]
  },
  {
   "cell_type": "code",
   "execution_count": 11,
   "id": "253f532f",
   "metadata": {},
   "outputs": [],
   "source": [
    "def df_corr(df):\n",
    "    df=df.dropna()\n",
    "    variables=df.columns\n",
    "    correl=[]\n",
    "    for x in variables:\n",
    "        for y in variables:\n",
    "            df1 = df.dropna(subset=[x,y]).copy()\n",
    "            correl.append((x,y,Spearman_correl(df1[x],df1[y])))\n",
    "    new_df=pd.DataFrame(correl,columns=['1','2','3'])\n",
    "    new_df=new_df.pivot_table(index='1', columns='2', values='3',aggfunc=np.sum)\n",
    "    return new_df"
   ]
  },
  {
   "cell_type": "code",
   "execution_count": 12,
   "id": "219b6f2c",
   "metadata": {},
   "outputs": [],
   "source": [
    "def basic_PCA(X,k):\n",
    "    cols=X.columns\n",
    "    Xu=X - np.mean(X)\n",
    "    total_var = []\n",
    "    covmtrx = np.cov(Xu , rowvar = False)\n",
    "    evalues , evectors = np.linalg.eigh(covmtrx)\n",
    "    sort_idx = np.argsort(evalues)[::-1] \n",
    "    eval_sort = evalues[sort_idx]\n",
    "    evec_sort = evectors[:,sort_idx]\n",
    "    total_var= [(cols[i],evalues[i] / np.sum(evalues)) for i in range(len(evalues))]\n",
    "    ncomps = k\n",
    "    changed_evec = evec_sort[:,0:ncomps]\n",
    "    Xred=np.dot(changed_evec.transpose(),Xu.transpose()).transpose()\n",
    "    return Xred,sorted(total_var, key=lambda x: x[1],reverse=True)"
   ]
  },
  {
   "cell_type": "code",
   "execution_count": 13,
   "id": "c60d7230",
   "metadata": {},
   "outputs": [],
   "source": [
    "def mrmr(X,y,num_select):\n",
    "    F = pd.Series(f_regression(X, y)[0], index = X.columns)\n",
    "    corr = X.corr(method=\"spearman\").abs().clip(.00001) \n",
    "\n",
    "    sel = []\n",
    "    ns = list(X.columns)\n",
    "    for i in range(num_select):\n",
    "        if i > 0:\n",
    "            ls = sel[-1]\n",
    "            corr.loc[ns, ls] = X[ns].corrwith(X[ls]).abs().clip(.00001)\n",
    "\n",
    "        val = F.loc[ns] / corr.loc[ns, sel].mean(axis = 1).fillna(.00001)\n",
    "        best_score = val.index[val.argmax()]\n",
    "        sel.append(best_score)\n",
    "        ns.remove(best_score)\n",
    "    return sel\n"
   ]
  },
  {
   "cell_type": "code",
   "execution_count": 20,
   "id": "9b7e0980",
   "metadata": {},
   "outputs": [],
   "source": [
    "#y"
   ]
  },
  {
   "cell_type": "code",
   "execution_count": 30,
   "id": "f972fb43",
   "metadata": {},
   "outputs": [
    {
     "name": "stdout",
     "output_type": "stream",
     "text": [
      "['CRIM', 'ZN', 'INDUS', 'CHAS', 'NOX', 'RM', 'AGE', 'DIS', 'RAD', 'TAX', 'PTRATIO', 'B', 'LSTAT']\n",
      "['LSTAT', 'RM', 'PTRATIO', 'INDUS', 'TAX', 'CRIM']\n"
     ]
    }
   ],
   "source": [
    "print(list(X.columns))\n",
    "print(mrmr(X,y,6))\n"
   ]
  },
  {
   "cell_type": "code",
   "execution_count": 66,
   "id": "a7b8c424",
   "metadata": {},
   "outputs": [],
   "source": [
    "iris = load_iris()\n",
    "X=iris.data\n",
    "y=iris.target"
   ]
  },
  {
   "cell_type": "code",
   "execution_count": 68,
   "id": "fac4decc",
   "metadata": {},
   "outputs": [],
   "source": [
    "\n",
    "mat_reduced ,m= basic_PCA(pd.DataFrame(X) , 2)\n",
    "principal_df = pd.DataFrame(mat_reduced , columns = ['PC1','PC2'])\n"
   ]
  },
  {
   "cell_type": "code",
   "execution_count": 70,
   "id": "0d288e7e",
   "metadata": {},
   "outputs": [
    {
     "data": {
      "text/plain": [
       "(array([[ 2.68412563,  0.31939725],\n",
       "        [ 2.71414169, -0.17700123],\n",
       "        [ 2.88899057, -0.14494943],\n",
       "        [ 2.74534286, -0.31829898],\n",
       "        [ 2.72871654,  0.32675451],\n",
       "        [ 2.28085963,  0.74133045],\n",
       "        [ 2.82053775, -0.08946138],\n",
       "        [ 2.62614497,  0.16338496],\n",
       "        [ 2.88638273, -0.57831175],\n",
       "        [ 2.6727558 , -0.11377425],\n",
       "        [ 2.50694709,  0.6450689 ],\n",
       "        [ 2.61275523,  0.01472994],\n",
       "        [ 2.78610927, -0.235112  ],\n",
       "        [ 3.22380374, -0.51139459],\n",
       "        [ 2.64475039,  1.17876464],\n",
       "        [ 2.38603903,  1.33806233],\n",
       "        [ 2.62352788,  0.81067951],\n",
       "        [ 2.64829671,  0.31184914],\n",
       "        [ 2.19982032,  0.87283904],\n",
       "        [ 2.5879864 ,  0.51356031],\n",
       "        [ 2.31025622,  0.39134594],\n",
       "        [ 2.54370523,  0.43299606],\n",
       "        [ 3.21593942,  0.13346807],\n",
       "        [ 2.30273318,  0.09870885],\n",
       "        [ 2.35575405, -0.03728186],\n",
       "        [ 2.50666891, -0.14601688],\n",
       "        [ 2.46882007,  0.13095149],\n",
       "        [ 2.56231991,  0.36771886],\n",
       "        [ 2.63953472,  0.31203998],\n",
       "        [ 2.63198939, -0.19696122],\n",
       "        [ 2.58739848, -0.20431849],\n",
       "        [ 2.4099325 ,  0.41092426],\n",
       "        [ 2.64886233,  0.81336382],\n",
       "        [ 2.59873675,  1.09314576],\n",
       "        [ 2.63692688, -0.12132235],\n",
       "        [ 2.86624165,  0.06936447],\n",
       "        [ 2.62523805,  0.59937002],\n",
       "        [ 2.80068412,  0.26864374],\n",
       "        [ 2.98050204, -0.48795834],\n",
       "        [ 2.59000631,  0.22904384],\n",
       "        [ 2.77010243,  0.26352753],\n",
       "        [ 2.84936871, -0.94096057],\n",
       "        [ 2.99740655, -0.34192606],\n",
       "        [ 2.40561449,  0.18887143],\n",
       "        [ 2.20948924,  0.43666314],\n",
       "        [ 2.71445143, -0.2502082 ],\n",
       "        [ 2.53814826,  0.50377114],\n",
       "        [ 2.83946217, -0.22794557],\n",
       "        [ 2.54308575,  0.57941002],\n",
       "        [ 2.70335978,  0.10770608],\n",
       "        [-1.28482569,  0.68516047],\n",
       "        [-0.93248853,  0.31833364],\n",
       "        [-1.46430232,  0.50426282],\n",
       "        [-0.18331772, -0.82795901],\n",
       "        [-1.08810326,  0.07459068],\n",
       "        [-0.64166908, -0.41824687],\n",
       "        [-1.09506066,  0.28346827],\n",
       "        [ 0.74912267, -1.00489096],\n",
       "        [-1.04413183,  0.2283619 ],\n",
       "        [ 0.0087454 , -0.72308191],\n",
       "        [ 0.50784088, -1.26597119],\n",
       "        [-0.51169856, -0.10398124],\n",
       "        [-0.26497651, -0.55003646],\n",
       "        [-0.98493451, -0.12481785],\n",
       "        [ 0.17392537, -0.25485421],\n",
       "        [-0.92786078,  0.46717949],\n",
       "        [-0.66028376, -0.35296967],\n",
       "        [-0.23610499, -0.33361077],\n",
       "        [-0.94473373, -0.54314555],\n",
       "        [-0.04522698, -0.58383438],\n",
       "        [-1.11628318, -0.08461685],\n",
       "        [-0.35788842, -0.06892503],\n",
       "        [-1.29818388, -0.32778731],\n",
       "        [-0.92172892, -0.18273779],\n",
       "        [-0.71485333,  0.14905594],\n",
       "        [-0.90017437,  0.32850447],\n",
       "        [-1.33202444,  0.24444088],\n",
       "        [-1.55780216,  0.26749545],\n",
       "        [-0.81329065, -0.1633503 ],\n",
       "        [ 0.30558378, -0.36826219],\n",
       "        [ 0.06812649, -0.70517213],\n",
       "        [ 0.18962247, -0.68028676],\n",
       "        [-0.13642871, -0.31403244],\n",
       "        [-1.38002644, -0.42095429],\n",
       "        [-0.58800644, -0.48428742],\n",
       "        [-0.80685831,  0.19418231],\n",
       "        [-1.22069088,  0.40761959],\n",
       "        [-0.81509524, -0.37203706],\n",
       "        [-0.24595768, -0.2685244 ],\n",
       "        [-0.16641322, -0.68192672],\n",
       "        [-0.46480029, -0.67071154],\n",
       "        [-0.8908152 , -0.03446444],\n",
       "        [-0.23054802, -0.40438585],\n",
       "        [ 0.70453176, -1.01224823],\n",
       "        [-0.35698149, -0.50491009],\n",
       "        [-0.33193448, -0.21265468],\n",
       "        [-0.37621565, -0.29321893],\n",
       "        [-0.64257601,  0.01773819],\n",
       "        [ 0.90646986, -0.75609337],\n",
       "        [-0.29900084, -0.34889781],\n",
       "        [-2.53119273, -0.00984911],\n",
       "        [-1.41523588, -0.57491635],\n",
       "        [-2.61667602,  0.34390315],\n",
       "        [-1.97153105, -0.1797279 ],\n",
       "        [-2.35000592, -0.04026095],\n",
       "        [-3.39703874,  0.55083667],\n",
       "        [-0.52123224, -1.19275873],\n",
       "        [-2.93258707,  0.3555    ],\n",
       "        [-2.32122882, -0.2438315 ],\n",
       "        [-2.91675097,  0.78279195],\n",
       "        [-1.66177415,  0.24222841],\n",
       "        [-1.80340195, -0.21563762],\n",
       "        [-2.1655918 ,  0.21627559],\n",
       "        [-1.34616358, -0.77681835],\n",
       "        [-1.58592822, -0.53964071],\n",
       "        [-1.90445637,  0.11925069],\n",
       "        [-1.94968906,  0.04194326],\n",
       "        [-3.48705536,  1.17573933],\n",
       "        [-3.79564542,  0.25732297],\n",
       "        [-1.30079171, -0.76114964],\n",
       "        [-2.42781791,  0.37819601],\n",
       "        [-1.19900111, -0.60609153],\n",
       "        [-3.49992004,  0.4606741 ],\n",
       "        [-1.38876613, -0.20439933],\n",
       "        [-2.2754305 ,  0.33499061],\n",
       "        [-2.61409047,  0.56090136],\n",
       "        [-1.25850816, -0.17970479],\n",
       "        [-1.29113206, -0.11666865],\n",
       "        [-2.12360872, -0.20972948],\n",
       "        [-2.38800302,  0.4646398 ],\n",
       "        [-2.84167278,  0.37526917],\n",
       "        [-3.23067366,  1.37416509],\n",
       "        [-2.15943764, -0.21727758],\n",
       "        [-1.44416124, -0.14341341],\n",
       "        [-1.78129481, -0.49990168],\n",
       "        [-3.07649993,  0.68808568],\n",
       "        [-2.14424331,  0.1400642 ],\n",
       "        [-1.90509815,  0.04930053],\n",
       "        [-1.16932634, -0.16499026],\n",
       "        [-2.10761114,  0.37228787],\n",
       "        [-2.31415471,  0.18365128],\n",
       "        [-1.9222678 ,  0.40920347],\n",
       "        [-1.41523588, -0.57491635],\n",
       "        [-2.56301338,  0.2778626 ],\n",
       "        [-2.41874618,  0.3047982 ],\n",
       "        [-1.94410979,  0.1875323 ],\n",
       "        [-1.52716661, -0.37531698],\n",
       "        [-1.76434572,  0.07885885],\n",
       "        [-1.90094161,  0.11662796],\n",
       "        [-1.39018886, -0.28266094]]),\n",
       " [(3, 0.9246187232017269),\n",
       "  (2, 0.05306648311706794),\n",
       "  (1, 0.017102609807929773),\n",
       "  (0, 0.005212183873275417)])"
      ]
     },
     "execution_count": 70,
     "metadata": {},
     "output_type": "execute_result"
    }
   ],
   "source": [
    "basic_PCA(pd.DataFrame(X) , 2)"
   ]
  },
  {
   "cell_type": "code",
   "execution_count": 72,
   "id": "897742c8",
   "metadata": {},
   "outputs": [
    {
     "data": {
      "text/plain": [
       "array([[-2.68412563,  0.31939725],\n",
       "       [-2.71414169, -0.17700123],\n",
       "       [-2.88899057, -0.14494943],\n",
       "       [-2.74534286, -0.31829898],\n",
       "       [-2.72871654,  0.32675451],\n",
       "       [-2.28085963,  0.74133045],\n",
       "       [-2.82053775, -0.08946138],\n",
       "       [-2.62614497,  0.16338496],\n",
       "       [-2.88638273, -0.57831175],\n",
       "       [-2.6727558 , -0.11377425],\n",
       "       [-2.50694709,  0.6450689 ],\n",
       "       [-2.61275523,  0.01472994],\n",
       "       [-2.78610927, -0.235112  ],\n",
       "       [-3.22380374, -0.51139459],\n",
       "       [-2.64475039,  1.17876464],\n",
       "       [-2.38603903,  1.33806233],\n",
       "       [-2.62352788,  0.81067951],\n",
       "       [-2.64829671,  0.31184914],\n",
       "       [-2.19982032,  0.87283904],\n",
       "       [-2.5879864 ,  0.51356031],\n",
       "       [-2.31025622,  0.39134594],\n",
       "       [-2.54370523,  0.43299606],\n",
       "       [-3.21593942,  0.13346807],\n",
       "       [-2.30273318,  0.09870885],\n",
       "       [-2.35575405, -0.03728186],\n",
       "       [-2.50666891, -0.14601688],\n",
       "       [-2.46882007,  0.13095149],\n",
       "       [-2.56231991,  0.36771886],\n",
       "       [-2.63953472,  0.31203998],\n",
       "       [-2.63198939, -0.19696122],\n",
       "       [-2.58739848, -0.20431849],\n",
       "       [-2.4099325 ,  0.41092426],\n",
       "       [-2.64886233,  0.81336382],\n",
       "       [-2.59873675,  1.09314576],\n",
       "       [-2.63692688, -0.12132235],\n",
       "       [-2.86624165,  0.06936447],\n",
       "       [-2.62523805,  0.59937002],\n",
       "       [-2.80068412,  0.26864374],\n",
       "       [-2.98050204, -0.48795834],\n",
       "       [-2.59000631,  0.22904384],\n",
       "       [-2.77010243,  0.26352753],\n",
       "       [-2.84936871, -0.94096057],\n",
       "       [-2.99740655, -0.34192606],\n",
       "       [-2.40561449,  0.18887143],\n",
       "       [-2.20948924,  0.43666314],\n",
       "       [-2.71445143, -0.2502082 ],\n",
       "       [-2.53814826,  0.50377114],\n",
       "       [-2.83946217, -0.22794557],\n",
       "       [-2.54308575,  0.57941002],\n",
       "       [-2.70335978,  0.10770608],\n",
       "       [ 1.28482569,  0.68516047],\n",
       "       [ 0.93248853,  0.31833364],\n",
       "       [ 1.46430232,  0.50426282],\n",
       "       [ 0.18331772, -0.82795901],\n",
       "       [ 1.08810326,  0.07459068],\n",
       "       [ 0.64166908, -0.41824687],\n",
       "       [ 1.09506066,  0.28346827],\n",
       "       [-0.74912267, -1.00489096],\n",
       "       [ 1.04413183,  0.2283619 ],\n",
       "       [-0.0087454 , -0.72308191],\n",
       "       [-0.50784088, -1.26597119],\n",
       "       [ 0.51169856, -0.10398124],\n",
       "       [ 0.26497651, -0.55003646],\n",
       "       [ 0.98493451, -0.12481785],\n",
       "       [-0.17392537, -0.25485421],\n",
       "       [ 0.92786078,  0.46717949],\n",
       "       [ 0.66028376, -0.35296967],\n",
       "       [ 0.23610499, -0.33361077],\n",
       "       [ 0.94473373, -0.54314555],\n",
       "       [ 0.04522698, -0.58383438],\n",
       "       [ 1.11628318, -0.08461685],\n",
       "       [ 0.35788842, -0.06892503],\n",
       "       [ 1.29818388, -0.32778731],\n",
       "       [ 0.92172892, -0.18273779],\n",
       "       [ 0.71485333,  0.14905594],\n",
       "       [ 0.90017437,  0.32850447],\n",
       "       [ 1.33202444,  0.24444088],\n",
       "       [ 1.55780216,  0.26749545],\n",
       "       [ 0.81329065, -0.1633503 ],\n",
       "       [-0.30558378, -0.36826219],\n",
       "       [-0.06812649, -0.70517213],\n",
       "       [-0.18962247, -0.68028676],\n",
       "       [ 0.13642871, -0.31403244],\n",
       "       [ 1.38002644, -0.42095429],\n",
       "       [ 0.58800644, -0.48428742],\n",
       "       [ 0.80685831,  0.19418231],\n",
       "       [ 1.22069088,  0.40761959],\n",
       "       [ 0.81509524, -0.37203706],\n",
       "       [ 0.24595768, -0.2685244 ],\n",
       "       [ 0.16641322, -0.68192672],\n",
       "       [ 0.46480029, -0.67071154],\n",
       "       [ 0.8908152 , -0.03446444],\n",
       "       [ 0.23054802, -0.40438585],\n",
       "       [-0.70453176, -1.01224823],\n",
       "       [ 0.35698149, -0.50491009],\n",
       "       [ 0.33193448, -0.21265468],\n",
       "       [ 0.37621565, -0.29321893],\n",
       "       [ 0.64257601,  0.01773819],\n",
       "       [-0.90646986, -0.75609337],\n",
       "       [ 0.29900084, -0.34889781],\n",
       "       [ 2.53119273, -0.00984911],\n",
       "       [ 1.41523588, -0.57491635],\n",
       "       [ 2.61667602,  0.34390315],\n",
       "       [ 1.97153105, -0.1797279 ],\n",
       "       [ 2.35000592, -0.04026095],\n",
       "       [ 3.39703874,  0.55083667],\n",
       "       [ 0.52123224, -1.19275873],\n",
       "       [ 2.93258707,  0.3555    ],\n",
       "       [ 2.32122882, -0.2438315 ],\n",
       "       [ 2.91675097,  0.78279195],\n",
       "       [ 1.66177415,  0.24222841],\n",
       "       [ 1.80340195, -0.21563762],\n",
       "       [ 2.1655918 ,  0.21627559],\n",
       "       [ 1.34616358, -0.77681835],\n",
       "       [ 1.58592822, -0.53964071],\n",
       "       [ 1.90445637,  0.11925069],\n",
       "       [ 1.94968906,  0.04194326],\n",
       "       [ 3.48705536,  1.17573933],\n",
       "       [ 3.79564542,  0.25732297],\n",
       "       [ 1.30079171, -0.76114964],\n",
       "       [ 2.42781791,  0.37819601],\n",
       "       [ 1.19900111, -0.60609153],\n",
       "       [ 3.49992004,  0.4606741 ],\n",
       "       [ 1.38876613, -0.20439933],\n",
       "       [ 2.2754305 ,  0.33499061],\n",
       "       [ 2.61409047,  0.56090136],\n",
       "       [ 1.25850816, -0.17970479],\n",
       "       [ 1.29113206, -0.11666865],\n",
       "       [ 2.12360872, -0.20972948],\n",
       "       [ 2.38800302,  0.4646398 ],\n",
       "       [ 2.84167278,  0.37526917],\n",
       "       [ 3.23067366,  1.37416509],\n",
       "       [ 2.15943764, -0.21727758],\n",
       "       [ 1.44416124, -0.14341341],\n",
       "       [ 1.78129481, -0.49990168],\n",
       "       [ 3.07649993,  0.68808568],\n",
       "       [ 2.14424331,  0.1400642 ],\n",
       "       [ 1.90509815,  0.04930053],\n",
       "       [ 1.16932634, -0.16499026],\n",
       "       [ 2.10761114,  0.37228787],\n",
       "       [ 2.31415471,  0.18365128],\n",
       "       [ 1.9222678 ,  0.40920347],\n",
       "       [ 1.41523588, -0.57491635],\n",
       "       [ 2.56301338,  0.2778626 ],\n",
       "       [ 2.41874618,  0.3047982 ],\n",
       "       [ 1.94410979,  0.1875323 ],\n",
       "       [ 1.52716661, -0.37531698],\n",
       "       [ 1.76434572,  0.07885885],\n",
       "       [ 1.90094161,  0.11662796],\n",
       "       [ 1.39018886, -0.28266094]])"
      ]
     },
     "execution_count": 72,
     "metadata": {},
     "output_type": "execute_result"
    }
   ],
   "source": [
    "pca = PCA(n_components=2)\n",
    "pca.fit(X)\n",
    "pca.transform(X)"
   ]
  },
  {
   "cell_type": "code",
   "execution_count": 73,
   "id": "e4c392b1",
   "metadata": {},
   "outputs": [
    {
     "name": "stdout",
     "output_type": "stream",
     "text": [
      "[0.92461872 0.05306648]\n"
     ]
    }
   ],
   "source": [
    "print(pca.explained_variance_ratio_)"
   ]
  },
  {
   "cell_type": "code",
   "execution_count": null,
   "id": "845b01b1",
   "metadata": {},
   "outputs": [],
   "source": [
    "x.shape,mat_reduced.shape"
   ]
  },
  {
   "cell_type": "code",
   "execution_count": 76,
   "id": "693b3547",
   "metadata": {},
   "outputs": [
    {
     "data": {
      "text/plain": [
       "<Figure size 432x432 with 0 Axes>"
      ]
     },
     "metadata": {},
     "output_type": "display_data"
    },
    {
     "data": {
      "image/png": "[encoded data removed]",
      "text/plain": [
       "<Figure size 432x288 with 2 Axes>"
      ]
     },
     "metadata": {
      "needs_background": "light"
     },
     "output_type": "display_data"
    }
   ],
   "source": [
    "plt.figure(figsize = (6,6))\n",
    "fig, axes = plt.subplots(1,2)\n",
    "axes[0].scatter(X[:,0], X[:,1], c=y)\n",
    "axes[0].set_xlabel('x1')\n",
    "axes[0].set_ylabel('x2')\n",
    "axes[0].set_title('Before PCA')\n",
    "axes[1].scatter(mat_reduced[:,0], mat_reduced[:,1], c=y)\n",
    "axes[1].set_xlabel('PC1')\n",
    "axes[1].set_ylabel('PC2')\n",
    "axes[1].set_title('After PCA')\n",
    "plt.show()"
   ]
  },
  {
   "cell_type": "code",
   "execution_count": 77,
   "id": "5ac27d76",
   "metadata": {},
   "outputs": [],
   "source": [
    "X = pd.DataFrame(boston.data, columns=boston.feature_names)\n",
    "y = boston.target"
   ]
  },
  {
   "cell_type": "code",
   "execution_count": 78,
   "id": "d37b0823",
   "metadata": {},
   "outputs": [],
   "source": [
    "corr=df_corr(X)"
   ]
  },
  {
   "cell_type": "code",
   "execution_count": 79,
   "id": "995d8500",
   "metadata": {},
   "outputs": [
    {
     "data": {
      "text/html": [
       "<div>\n",
       "<style scoped>\n",
       "    .dataframe tbody tr th:only-of-type {\n",
       "        vertical-align: middle;\n",
       "    }\n",
       "\n",
       "    .dataframe tbody tr th {\n",
       "        vertical-align: top;\n",
       "    }\n",
       "\n",
       "    .dataframe thead th {\n",
       "        text-align: right;\n",
       "    }\n",
       "</style>\n",
       "<table border=\"1\" class=\"dataframe\">\n",
       "  <thead>\n",
       "    <tr style=\"text-align: right;\">\n",
       "      <th>2</th>\n",
       "      <th>AGE</th>\n",
       "      <th>B</th>\n",
       "      <th>CHAS</th>\n",
       "      <th>CRIM</th>\n",
       "      <th>DIS</th>\n",
       "      <th>INDUS</th>\n",
       "      <th>LSTAT</th>\n",
       "      <th>NOX</th>\n",
       "      <th>PTRATIO</th>\n",
       "      <th>RAD</th>\n",
       "      <th>RM</th>\n",
       "      <th>TAX</th>\n",
       "      <th>ZN</th>\n",
       "    </tr>\n",
       "    <tr>\n",
       "      <th>1</th>\n",
       "      <th></th>\n",
       "      <th></th>\n",
       "      <th></th>\n",
       "      <th></th>\n",
       "      <th></th>\n",
       "      <th></th>\n",
       "      <th></th>\n",
       "      <th></th>\n",
       "      <th></th>\n",
       "      <th></th>\n",
       "      <th></th>\n",
       "      <th></th>\n",
       "      <th></th>\n",
       "    </tr>\n",
       "  </thead>\n",
       "  <tbody>\n",
       "    <tr>\n",
       "      <th>AGE</th>\n",
       "      <td>1.000000</td>\n",
       "      <td>-0.228022</td>\n",
       "      <td>0.067792</td>\n",
       "      <td>0.704140</td>\n",
       "      <td>-0.801610</td>\n",
       "      <td>0.679487</td>\n",
       "      <td>0.657071</td>\n",
       "      <td>0.795153</td>\n",
       "      <td>0.355384</td>\n",
       "      <td>0.417983</td>\n",
       "      <td>-0.278082</td>\n",
       "      <td>0.526366</td>\n",
       "      <td>-0.544423</td>\n",
       "    </tr>\n",
       "    <tr>\n",
       "      <th>B</th>\n",
       "      <td>-0.228022</td>\n",
       "      <td>1.000000</td>\n",
       "      <td>-0.039810</td>\n",
       "      <td>-0.360555</td>\n",
       "      <td>0.249595</td>\n",
       "      <td>-0.285840</td>\n",
       "      <td>-0.210562</td>\n",
       "      <td>-0.296662</td>\n",
       "      <td>-0.072027</td>\n",
       "      <td>-0.282533</td>\n",
       "      <td>0.053660</td>\n",
       "      <td>-0.329843</td>\n",
       "      <td>0.163135</td>\n",
       "    </tr>\n",
       "    <tr>\n",
       "      <th>CHAS</th>\n",
       "      <td>0.067792</td>\n",
       "      <td>-0.039810</td>\n",
       "      <td>1.000000</td>\n",
       "      <td>0.041537</td>\n",
       "      <td>-0.080248</td>\n",
       "      <td>0.089841</td>\n",
       "      <td>-0.050575</td>\n",
       "      <td>0.068426</td>\n",
       "      <td>-0.136065</td>\n",
       "      <td>0.024579</td>\n",
       "      <td>0.058813</td>\n",
       "      <td>-0.044486</td>\n",
       "      <td>-0.041937</td>\n",
       "    </tr>\n",
       "    <tr>\n",
       "      <th>CRIM</th>\n",
       "      <td>0.704140</td>\n",
       "      <td>-0.360555</td>\n",
       "      <td>0.041537</td>\n",
       "      <td>1.000000</td>\n",
       "      <td>-0.744986</td>\n",
       "      <td>0.735524</td>\n",
       "      <td>0.634760</td>\n",
       "      <td>0.821465</td>\n",
       "      <td>0.465283</td>\n",
       "      <td>0.727807</td>\n",
       "      <td>-0.309116</td>\n",
       "      <td>0.729045</td>\n",
       "      <td>-0.571660</td>\n",
       "    </tr>\n",
       "    <tr>\n",
       "      <th>DIS</th>\n",
       "      <td>-0.801610</td>\n",
       "      <td>0.249595</td>\n",
       "      <td>-0.080248</td>\n",
       "      <td>-0.744986</td>\n",
       "      <td>1.000000</td>\n",
       "      <td>-0.757080</td>\n",
       "      <td>-0.564262</td>\n",
       "      <td>-0.880015</td>\n",
       "      <td>-0.322041</td>\n",
       "      <td>-0.495806</td>\n",
       "      <td>0.263168</td>\n",
       "      <td>-0.574336</td>\n",
       "      <td>0.614627</td>\n",
       "    </tr>\n",
       "    <tr>\n",
       "      <th>INDUS</th>\n",
       "      <td>0.679487</td>\n",
       "      <td>-0.285840</td>\n",
       "      <td>0.089841</td>\n",
       "      <td>0.735524</td>\n",
       "      <td>-0.757080</td>\n",
       "      <td>1.000000</td>\n",
       "      <td>0.638747</td>\n",
       "      <td>0.791189</td>\n",
       "      <td>0.433710</td>\n",
       "      <td>0.455507</td>\n",
       "      <td>-0.415301</td>\n",
       "      <td>0.664361</td>\n",
       "      <td>-0.642811</td>\n",
       "    </tr>\n",
       "    <tr>\n",
       "      <th>LSTAT</th>\n",
       "      <td>0.657071</td>\n",
       "      <td>-0.210562</td>\n",
       "      <td>-0.050575</td>\n",
       "      <td>0.634760</td>\n",
       "      <td>-0.564262</td>\n",
       "      <td>0.638747</td>\n",
       "      <td>1.000000</td>\n",
       "      <td>0.636828</td>\n",
       "      <td>0.467259</td>\n",
       "      <td>0.394322</td>\n",
       "      <td>-0.640832</td>\n",
       "      <td>0.534423</td>\n",
       "      <td>-0.490074</td>\n",
       "    </tr>\n",
       "    <tr>\n",
       "      <th>NOX</th>\n",
       "      <td>0.795153</td>\n",
       "      <td>-0.296662</td>\n",
       "      <td>0.068426</td>\n",
       "      <td>0.821465</td>\n",
       "      <td>-0.880015</td>\n",
       "      <td>0.791189</td>\n",
       "      <td>0.636828</td>\n",
       "      <td>1.000000</td>\n",
       "      <td>0.391309</td>\n",
       "      <td>0.586429</td>\n",
       "      <td>-0.310344</td>\n",
       "      <td>0.649527</td>\n",
       "      <td>-0.634828</td>\n",
       "    </tr>\n",
       "    <tr>\n",
       "      <th>PTRATIO</th>\n",
       "      <td>0.355384</td>\n",
       "      <td>-0.072027</td>\n",
       "      <td>-0.136065</td>\n",
       "      <td>0.465283</td>\n",
       "      <td>-0.322041</td>\n",
       "      <td>0.433710</td>\n",
       "      <td>0.467259</td>\n",
       "      <td>0.391309</td>\n",
       "      <td>1.000000</td>\n",
       "      <td>0.318330</td>\n",
       "      <td>-0.312923</td>\n",
       "      <td>0.453345</td>\n",
       "      <td>-0.448475</td>\n",
       "    </tr>\n",
       "    <tr>\n",
       "      <th>RAD</th>\n",
       "      <td>0.417983</td>\n",
       "      <td>-0.282533</td>\n",
       "      <td>0.024579</td>\n",
       "      <td>0.727807</td>\n",
       "      <td>-0.495806</td>\n",
       "      <td>0.455507</td>\n",
       "      <td>0.394322</td>\n",
       "      <td>0.586429</td>\n",
       "      <td>0.318330</td>\n",
       "      <td>1.000000</td>\n",
       "      <td>-0.107492</td>\n",
       "      <td>0.704876</td>\n",
       "      <td>-0.278767</td>\n",
       "    </tr>\n",
       "    <tr>\n",
       "      <th>RM</th>\n",
       "      <td>-0.278082</td>\n",
       "      <td>0.053660</td>\n",
       "      <td>0.058813</td>\n",
       "      <td>-0.309116</td>\n",
       "      <td>0.263168</td>\n",
       "      <td>-0.415301</td>\n",
       "      <td>-0.640832</td>\n",
       "      <td>-0.310344</td>\n",
       "      <td>-0.312923</td>\n",
       "      <td>-0.107492</td>\n",
       "      <td>1.000000</td>\n",
       "      <td>-0.271898</td>\n",
       "      <td>0.361074</td>\n",
       "    </tr>\n",
       "    <tr>\n",
       "      <th>TAX</th>\n",
       "      <td>0.526366</td>\n",
       "      <td>-0.329843</td>\n",
       "      <td>-0.044486</td>\n",
       "      <td>0.729045</td>\n",
       "      <td>-0.574336</td>\n",
       "      <td>0.664361</td>\n",
       "      <td>0.534423</td>\n",
       "      <td>0.649527</td>\n",
       "      <td>0.453345</td>\n",
       "      <td>0.704876</td>\n",
       "      <td>-0.271898</td>\n",
       "      <td>1.000000</td>\n",
       "      <td>-0.371394</td>\n",
       "    </tr>\n",
       "    <tr>\n",
       "      <th>ZN</th>\n",
       "      <td>-0.544423</td>\n",
       "      <td>0.163135</td>\n",
       "      <td>-0.041937</td>\n",
       "      <td>-0.571660</td>\n",
       "      <td>0.614627</td>\n",
       "      <td>-0.642811</td>\n",
       "      <td>-0.490074</td>\n",
       "      <td>-0.634828</td>\n",
       "      <td>-0.448475</td>\n",
       "      <td>-0.278767</td>\n",
       "      <td>0.361074</td>\n",
       "      <td>-0.371394</td>\n",
       "      <td>1.000000</td>\n",
       "    </tr>\n",
       "  </tbody>\n",
       "</table>\n",
       "</div>"
      ],
      "text/plain": [
       "2              AGE          B       CHAS       CRIM        DIS      INDUS  \\\n",
       "1                                                                           \n",
       "AGE       1.000000  -0.228022   0.067792   0.704140  -0.801610   0.679487   \n",
       "B        -0.228022   1.000000  -0.039810  -0.360555   0.249595  -0.285840   \n",
       "CHAS      0.067792  -0.039810   1.000000   0.041537  -0.080248   0.089841   \n",
       "CRIM      0.704140  -0.360555   0.041537   1.000000  -0.744986   0.735524   \n",
       "DIS      -0.801610   0.249595  -0.080248  -0.744986   1.000000  -0.757080   \n",
       "INDUS     0.679487  -0.285840   0.089841   0.735524  -0.757080   1.000000   \n",
       "LSTAT     0.657071  -0.210562  -0.050575   0.634760  -0.564262   0.638747   \n",
       "NOX       0.795153  -0.296662   0.068426   0.821465  -0.880015   0.791189   \n",
       "PTRATIO   0.355384  -0.072027  -0.136065   0.465283  -0.322041   0.433710   \n",
       "RAD       0.417983  -0.282533   0.024579   0.727807  -0.495806   0.455507   \n",
       "RM       -0.278082   0.053660   0.058813  -0.309116   0.263168  -0.415301   \n",
       "TAX       0.526366  -0.329843  -0.044486   0.729045  -0.574336   0.664361   \n",
       "ZN       -0.544423   0.163135  -0.041937  -0.571660   0.614627  -0.642811   \n",
       "\n",
       "2            LSTAT        NOX    PTRATIO        RAD         RM        TAX  \\\n",
       "1                                                                           \n",
       "AGE       0.657071   0.795153   0.355384   0.417983  -0.278082   0.526366   \n",
       "B        -0.210562  -0.296662  -0.072027  -0.282533   0.053660  -0.329843   \n",
       "CHAS     -0.050575   0.068426  -0.136065   0.024579   0.058813  -0.044486   \n",
       "CRIM      0.634760   0.821465   0.465283   0.727807  -0.309116   0.729045   \n",
       "DIS      -0.564262  -0.880015  -0.322041  -0.495806   0.263168  -0.574336   \n",
       "INDUS     0.638747   0.791189   0.433710   0.455507  -0.415301   0.664361   \n",
       "LSTAT     1.000000   0.636828   0.467259   0.394322  -0.640832   0.534423   \n",
       "NOX       0.636828   1.000000   0.391309   0.586429  -0.310344   0.649527   \n",
       "PTRATIO   0.467259   0.391309   1.000000   0.318330  -0.312923   0.453345   \n",
       "RAD       0.394322   0.586429   0.318330   1.000000  -0.107492   0.704876   \n",
       "RM       -0.640832  -0.310344  -0.312923  -0.107492   1.000000  -0.271898   \n",
       "TAX       0.534423   0.649527   0.453345   0.704876  -0.271898   1.000000   \n",
       "ZN       -0.490074  -0.634828  -0.448475  -0.278767   0.361074  -0.371394   \n",
       "\n",
       "2               ZN  \n",
       "1                   \n",
       "AGE      -0.544423  \n",
       "B         0.163135  \n",
       "CHAS     -0.041937  \n",
       "CRIM     -0.571660  \n",
       "DIS       0.614627  \n",
       "INDUS    -0.642811  \n",
       "LSTAT    -0.490074  \n",
       "NOX      -0.634828  \n",
       "PTRATIO  -0.448475  \n",
       "RAD      -0.278767  \n",
       "RM        0.361074  \n",
       "TAX      -0.371394  \n",
       "ZN        1.000000  "
      ]
     },
     "execution_count": 79,
     "metadata": {},
     "output_type": "execute_result"
    }
   ],
   "source": [
    "corr"
   ]
  },
  {
   "cell_type": "code",
   "execution_count": 80,
   "id": "ee806791",
   "metadata": {},
   "outputs": [
    {
     "data": {
      "text/plain": [
       "<Figure size 1152x432 with 0 Axes>"
      ]
     },
     "execution_count": 80,
     "metadata": {},
     "output_type": "execute_result"
    },
    {
     "data": {
      "text/plain": [
       "<Figure size 1152x432 with 0 Axes>"
      ]
     },
     "metadata": {},
     "output_type": "display_data"
    }
   ],
   "source": [
    "plt.figure(figsize=(16, 6))"
   ]
  },
  {
   "cell_type": "code",
   "execution_count": 81,
   "id": "237ab1ad",
   "metadata": {},
   "outputs": [
    {
     "data": {
      "text/plain": [
       "<AxesSubplot:>"
      ]
     },
     "execution_count": 81,
     "metadata": {},
     "output_type": "execute_result"
    },
    {
     "data": {
      "image/png": "[encoded data removed]",
      "text/plain": [
       "<Figure size 1152x432 with 2 Axes>"
      ]
     },
     "metadata": {
      "needs_background": "light"
     },
     "output_type": "display_data"
    }
   ],
   "source": [
    "plt.figure(figsize=(16, 6))\n",
    "sb.heatmap(X.corr(method=\"spearman\"),vmin=-1, vmax=1, annot=True)"
   ]
  },
  {
   "cell_type": "code",
   "execution_count": 259,
   "id": "74ddec06",
   "metadata": {},
   "outputs": [],
   "source": [
    "##MODEL DEPENDENT"
   ]
  },
  {
   "cell_type": "code",
   "execution_count": 86,
   "id": "18d9cdbf",
   "metadata": {},
   "outputs": [],
   "source": [
    "#Gini"
   ]
  },
  {
   "cell_type": "code",
   "execution_count": 83,
   "id": "48effaa1",
   "metadata": {},
   "outputs": [
    {
     "data": {
      "text/plain": [
       "RandomForestRegressor()"
      ]
     },
     "execution_count": 83,
     "metadata": {},
     "output_type": "execute_result"
    }
   ],
   "source": [
    "rf = RandomForestRegressor(n_estimators=100)\n",
    "rf.fit(X, y)"
   ]
  },
  {
   "cell_type": "code",
   "execution_count": 84,
   "id": "a171e1f0",
   "metadata": {},
   "outputs": [
    {
     "data": {
      "text/plain": [
       "array([0.03529088, 0.00103223, 0.00592596, 0.00078969, 0.02140345,\n",
       "       0.409379  , 0.01332322, 0.06846544, 0.00485138, 0.01560073,\n",
       "       0.01756597, 0.010956  , 0.39541606])"
      ]
     },
     "execution_count": 84,
     "metadata": {},
     "output_type": "execute_result"
    }
   ],
   "source": [
    "rf.feature_importances_"
   ]
  },
  {
   "cell_type": "code",
   "execution_count": 85,
   "id": "cebfa59e",
   "metadata": {},
   "outputs": [
    {
     "data": {
      "text/plain": [
       "Text(0.5, 0, 'Random Forest Feature Importance')"
      ]
     },
     "execution_count": 85,
     "metadata": {},
     "output_type": "execute_result"
    },
    {
     "data": {
      "image/png": "[encoded data removed]",
      "text/plain": [
       "<Figure size 432x288 with 1 Axes>"
      ]
     },
     "metadata": {
      "needs_background": "light"
     },
     "output_type": "display_data"
    }
   ],
   "source": [
    "sortindx = rf.feature_importances_.argsort()\n",
    "c = ['red', 'red', 'seagreen', 'blue', 'orange','red', 'yellow', 'seagreen', 'blue', 'orange','red', 'yellow', 'seagreen']\n",
    "plt.barh(X.columns[sortindx], rf.feature_importances_[sortindx],color=\"grey\",edgecolor=\"blue\",alpha=0.4)\n",
    "plt.xlabel(\"Random Forest Feature Importance\")"
   ]
  },
  {
   "cell_type": "code",
   "execution_count": 87,
   "id": "a80cb7a7",
   "metadata": {},
   "outputs": [],
   "source": [
    "#Drop Column Implementation"
   ]
  },
  {
   "cell_type": "code",
   "execution_count": 88,
   "id": "8fe3c2ea",
   "metadata": {},
   "outputs": [],
   "source": [
    "def dropcol_importances(model,metric,X_train, y_train, X_valid, y_valid):\n",
    "    model.fit(X_train, y_train)\n",
    "    baseline = metric(y_valid, model.predict(X_valid))\n",
    "    imp = []\n",
    "    X_train=pd.DataFrame(X_train)\n",
    "    X_valid=pd.DataFrame(X_valid)\n",
    "    for col in X_train.columns:\n",
    "        X_train_ = X_train.drop(col, axis=1)\n",
    "        X_valid_ = X_valid.drop(col, axis=1)\n",
    "        model_ = clone(model)\n",
    "        model_.fit(X_train_, y_train)\n",
    "        m = metric(y_valid, model_.predict(X_valid_))\n",
    "        imp.append((col,baseline - m))\n",
    "    return imp"
   ]
  },
  {
   "cell_type": "code",
   "execution_count": 89,
   "id": "90a83aa1",
   "metadata": {},
   "outputs": [],
   "source": [
    "#Permutation Implementation"
   ]
  },
  {
   "cell_type": "code",
   "execution_count": 90,
   "id": "28eadc98",
   "metadata": {},
   "outputs": [],
   "source": [
    "def permutation_importances(model, metric,X_valid, y_valid):\n",
    "    baseline = metric(y_valid, model.predict(X_valid))\n",
    "    imp = []\n",
    "    X_valid=pd.DataFrame(X_valid)\n",
    "    for col in X_valid.columns:\n",
    "        save = X_valid[col].copy()\n",
    "        X_valid[col] = np.random.permutation(X_valid[col])\n",
    "        m = metric(y_valid, model.predict(X_valid))\n",
    "        X_valid[col] = save\n",
    "        imp.append((col,baseline - m))\n",
    "    return imp"
   ]
  },
  {
   "cell_type": "code",
   "execution_count": 93,
   "id": "c12b005f",
   "metadata": {},
   "outputs": [],
   "source": [
    "def rsquared(actual,predict):\n",
    "    corr_matrix = np.corrcoef(actual, predict)\n",
    "    corr = corr_matrix[0,1]\n",
    "    R_sq = corr**2\n",
    "    return R_sq\n",
    " "
   ]
  },
  {
   "cell_type": "code",
   "execution_count": 95,
   "id": "279217b9",
   "metadata": {},
   "outputs": [
    {
     "data": {
      "text/plain": [
       "[('CRIM', 0.009426962460162502),\n",
       " ('ZN', 0.017610365717485088),\n",
       " ('INDUS', -0.010145342231250631),\n",
       " ('CHAS', 0.02288352049258846),\n",
       " ('NOX', 0.039239746873186765),\n",
       " ('RM', 0.133884302728148),\n",
       " ('AGE', 0.00182890844821737),\n",
       " ('DIS', 0.04828877731278869),\n",
       " ('RAD', 0.004949283631567547),\n",
       " ('TAX', 0.01688882855149998),\n",
       " ('PTRATIO', 0.013536517540586268),\n",
       " ('B', 0.0009526389190764872),\n",
       " ('LSTAT', 0.2123860294045633)]"
      ]
     },
     "execution_count": 95,
     "metadata": {},
     "output_type": "execute_result"
    }
   ],
   "source": [
    "model = RandomForestRegressor(n_estimators=100)\n",
    "dropcol_importances(model, rsquared,X_train, y_train,X_val, y_val)"
   ]
  },
  {
   "cell_type": "code",
   "execution_count": 96,
   "id": "fc8f40cc",
   "metadata": {},
   "outputs": [
    {
     "data": {
      "text/plain": [
       "Text(0.5, 1.0, 'Drop Column Importance')"
      ]
     },
     "execution_count": 96,
     "metadata": {},
     "output_type": "execute_result"
    },
    {
     "data": {
      "image/png": "[encoded data removed]",
      "text/plain": [
       "<Figure size 432x288 with 1 Axes>"
      ]
     },
     "metadata": {},
     "output_type": "display_data"
    }
   ],
   "source": [
    "df = pd.DataFrame(dropcol_importances(model, rsquared,X_train, y_train,X_val, y_val),columns=['Variable','Importance'])\n",
    "sortindx = df['Importance'].argsort()[::-1]\n",
    "sb.set_style(\"darkgrid\")\n",
    "p=sb.barplot(x='Importance', y='Variable', data=df.iloc[sortindx],orient='h')\n",
    "#sb.xlabel(\"Importance(Loss)\")\n",
    "p.set_xlabel('Importance(Loss)')\n",
    "p.set_title('Drop Column Importance')\n"
   ]
  },
  {
   "cell_type": "code",
   "execution_count": 99,
   "id": "2bafe5d9",
   "metadata": {},
   "outputs": [
    {
     "data": {
      "text/plain": [
       "Text(0.5, 1.0, 'Permutation Importance')"
      ]
     },
     "execution_count": 99,
     "metadata": {},
     "output_type": "execute_result"
    },
    {
     "data": {
      "image/png": "[encoded data removed]",
      "text/plain": [
       "<Figure size 432x288 with 1 Axes>"
      ]
     },
     "metadata": {},
     "output_type": "display_data"
    }
   ],
   "source": [
    "df = pd.DataFrame(permutation_importances(model, rsquared,X_val, y_val),columns=['Variable','Importance'])\n",
    "sortindx = df['Importance'].argsort()[::-1]\n",
    "sb.set_style(\"darkgrid\")\n",
    "p=sb.barplot(x='Importance', y='Variable', data=df.iloc[sortindx],orient='h')\n",
    "#sb.xlabel(\"Importance(Loss)\")\n",
    "p.set_xlabel('Importance(Loss)')\n",
    "p.set_title('Permutation Importance')"
   ]
  },
  {
   "cell_type": "code",
   "execution_count": 100,
   "id": "a98deb2d",
   "metadata": {},
   "outputs": [],
   "source": [
    "scoring = 'r2'#, 'neg_mean_absolute_percentage_error', 'neg_mean_squared_error'\n",
    "r_multi = permutation_importance(model, X_val, y_val, n_repeats=30, random_state=0, scoring=scoring)"
   ]
  },
  {
   "cell_type": "code",
   "execution_count": 101,
   "id": "689c975b",
   "metadata": {},
   "outputs": [
    {
     "data": {
      "text/plain": [
       "array([ 2.58407957e-02, -2.02065022e-04,  1.62215228e-03, -2.23452816e-04,\n",
       "        2.00782131e-02,  3.91286366e-01,  4.70348826e-03,  5.76024064e-02,\n",
       "       -2.43397463e-03,  5.83783623e-03,  1.96639848e-02,  7.86253469e-03,\n",
       "        5.41544747e-01])"
      ]
     },
     "execution_count": 101,
     "metadata": {},
     "output_type": "execute_result"
    }
   ],
   "source": [
    "r_multi['importances_mean']"
   ]
  },
  {
   "cell_type": "code",
   "execution_count": 102,
   "id": "8d1a21a3",
   "metadata": {},
   "outputs": [
    {
     "data": {
      "text/plain": [
       "[('CRIM', 0.03783131321525712),\n",
       " ('ZN', -0.0002993517444340732),\n",
       " ('INDUS', 0.0010366172596999457),\n",
       " ('CHAS', -0.0008645716552038163),\n",
       " ('NOX', 0.02453749159431151),\n",
       " ('RM', 0.37902173266994293),\n",
       " ('AGE', 0.00354451924961785),\n",
       " ('DIS', 0.05445099800283737),\n",
       " ('RAD', -0.002711206780829034),\n",
       " ('TAX', 0.01679262355273159),\n",
       " ('PTRATIO', 0.02082915683613895),\n",
       " ('B', 0.007367766438903134),\n",
       " ('LSTAT', 0.722418640891854)]"
      ]
     },
     "execution_count": 102,
     "metadata": {},
     "output_type": "execute_result"
    }
   ],
   "source": [
    "permutation_importances(model, rsquared,X_val, y_val)"
   ]
  },
  {
   "cell_type": "code",
   "execution_count": 104,
   "id": "c8706d01",
   "metadata": {},
   "outputs": [
    {
     "data": {
      "text/plain": [
       "[('CRIM', 0.0049856854610029755),\n",
       " ('ZN', 0.009477233191896972),\n",
       " ('INDUS', -0.00022709563633627194),\n",
       " ('CHAS', 0.008120298385071667),\n",
       " ('NOX', 0.020046083662205727),\n",
       " ('RM', 0.05526047171117354),\n",
       " ('AGE', -0.0012486001579956607),\n",
       " ('DIS', 0.03964654912910259),\n",
       " ('RAD', 0.021570266571364294),\n",
       " ('TAX', 0.00919121942621548),\n",
       " ('PTRATIO', 0.017637408132317844),\n",
       " ('B', 0.009115828036576068),\n",
       " ('LSTAT', 0.08109535502163079)]"
      ]
     },
     "execution_count": 104,
     "metadata": {},
     "output_type": "execute_result"
    }
   ],
   "source": [
    "model = Ridge(alpha=1e-2) #Different model\n",
    "dropcol_importances(model, rsquared,X_train, y_train,X_val, y_val)"
   ]
  },
  {
   "cell_type": "code",
   "execution_count": 105,
   "id": "9ca4c7ab",
   "metadata": {},
   "outputs": [],
   "source": [
    "explainer = shap.TreeExplainer(rf)\n",
    "shap_values = explainer.shap_values(X_train)"
   ]
  },
  {
   "cell_type": "code",
   "execution_count": 206,
   "id": "a54f3b1a",
   "metadata": {},
   "outputs": [
    {
     "data": {
      "image/png": "[encoded data removed]",
      "text/plain": [
       "<Figure size 576x482.4 with 1 Axes>"
      ]
     },
     "metadata": {},
     "output_type": "display_data"
    }
   ],
   "source": [
    "shap.summary_plot(shap_values, X_train, plot_type=\"bar\",color=\"skyblue\")"
   ]
  },
  {
   "cell_type": "code",
   "execution_count": 107,
   "id": "cae7e703",
   "metadata": {},
   "outputs": [
    {
     "data": {
      "image/png": "[encoded data removed]",
      "text/plain": [
       "<Figure size 576x482.4 with 2 Axes>"
      ]
     },
     "metadata": {},
     "output_type": "display_data"
    }
   ],
   "source": [
    "shap.summary_plot(shap_values, X_train)"
   ]
  },
  {
   "cell_type": "code",
   "execution_count": 228,
   "id": "3eca5419",
   "metadata": {},
   "outputs": [
    {
     "data": {
      "image/png": "[encoded data removed]",
      "text/plain": [
       "<Figure size 432x288 with 1 Axes>"
      ]
     },
     "metadata": {},
     "output_type": "display_data"
    }
   ],
   "source": [
    "import statsmodels.api as sm\n",
    "#model=LinearRegression()\n",
    "model = sm.OLS(y,X)\n",
    "results=model.fit()#(X_train,y_train)\n",
    "importance=results.params\n",
    "importance=np.sort(importance)\n",
    "sns.set_style(\"darkgrid\")\n",
    "plt.barh(X.columns,importance)\n",
    "plt.title('OLS Feature importance ')\n",
    "plt.show()"
   ]
  },
  {
   "cell_type": "code",
   "execution_count": 13,
   "id": "183dc75b",
   "metadata": {},
   "outputs": [],
   "source": [
    "model=Ridge()"
   ]
  },
  {
   "cell_type": "code",
   "execution_count": 14,
   "id": "30175eff",
   "metadata": {},
   "outputs": [],
   "source": [
    "def automatic_feature_select(model,metric,method_imp,X_train, y_train, X_valid, y_valid):\n",
    "    X_train=np.array(X_train)\n",
    "    columns_dataframe=pd.DataFrame(X_train).columns\n",
    "    model.fit(X_train, y_train)\n",
    "    baseline = metric(y_valid, model.predict(X_valid))\n",
    "    scoring = 'neg_mean_absolute_percentage_error'\n",
    "    if method_imp=='permutation':\n",
    "        r_multi = permutation_importance(model, X_valid, y_valid, n_repeats=30, random_state=0, scoring=scoring)['importances_mean']\n",
    "    if method_imp=='drop':\n",
    "        r_multi= dropcol_importances(model, metric,X_train, y_train,X_valid, y_valid)[1]  \n",
    "    r_multi=np.vstack((np.arange(X_train.shape[1]), r_multi)).T\n",
    "    r_multisort=r_multi.copy()\n",
    "    r_multisort=r_multi[r_multi[:, 1].argsort()]\n",
    "    rem_X_train=X_train.copy()\n",
    "    rem_X_valid=X_valid.copy()\n",
    "    dropped_indexes=[]\n",
    "    #print(rem_X_train)\n",
    "    for k in range(0,len(columns_dataframe)):\n",
    "        print(rem_X_train.shape)\n",
    "        rem_X_train=np.delete(np.array(rem_X_train),0 , 1)\n",
    "        rem_X_valid=np.delete(np.array(rem_X_valid), 0, 1)\n",
    "        model.fit(rem_X_train, y_train)\n",
    "        new_val_metric = metric(y_valid, model.predict(rem_X_valid))\n",
    "        if (abs(baseline-new_val_metric)*1.00/baseline)>0.05:\n",
    "            break\n",
    "        else:\n",
    "            dropped_indexes.append(r_multisort[0][0])\n",
    "            r_multi=np.delete(r_multi,np.where(r_multi[:,0]==r_multisort[0][0]),0)\n",
    "            if method_imp=='permutation':\n",
    "                r_multi_new= permutation_importance(model, rem_X_valid, y_valid, n_repeats=30, random_state=0, scoring=scoring)['importances_mean']\n",
    "                r_multi_new=np.vstack((r_multi[:,0], r_multi_new)).T\n",
    "                \n",
    "            if method_imp=='drop':\n",
    "                r_multi_new= dropcol_importances(model, metric,X_train, y_train,X_valid, y_valid)[1]\n",
    "                r_multi_new=np.vstack((r_multi[:,0], r_multi_new)).T\n",
    "                \n",
    "            r_multisort=r_multi_new.copy()\n",
    "            r_multisort=r_multisort[r_multisort[:, 1].argsort()]\n",
    "    return r_multisort,dropped_indexes\n",
    "        "
   ]
  },
  {
   "cell_type": "code",
   "execution_count": 15,
   "id": "47ceaffa",
   "metadata": {},
   "outputs": [
    {
     "data": {
      "text/plain": [
       "(379, 13)"
      ]
     },
     "execution_count": 15,
     "metadata": {},
     "output_type": "execute_result"
    }
   ],
   "source": [
    "X_train.shape"
   ]
  },
  {
   "cell_type": "code",
   "execution_count": 16,
   "id": "f3b1e990",
   "metadata": {},
   "outputs": [
    {
     "data": {
      "text/plain": [
       "array([ 0,  1,  2,  3,  4,  5,  6,  7,  8,  9, 10, 11, 12])"
      ]
     },
     "execution_count": 16,
     "metadata": {},
     "output_type": "execute_result"
    }
   ],
   "source": [
    "np.arange(X_train.shape[1])"
   ]
  },
  {
   "cell_type": "code",
   "execution_count": 17,
   "id": "45120899",
   "metadata": {},
   "outputs": [],
   "source": [
    "#model = RandomForestRegressor(n_estimators=20)"
   ]
  },
  {
   "cell_type": "code",
   "execution_count": 216,
   "id": "5922dd1d",
   "metadata": {},
   "outputs": [
    {
     "name": "stderr",
     "output_type": "stream",
     "text": [
      "X has feature names, but Ridge was fitted without feature names\n",
      "X has feature names, but Ridge was fitted without feature names\n",
      "X has feature names, but Ridge was fitted without feature names\n",
      "X has feature names, but Ridge was fitted without feature names\n",
      "X has feature names, but Ridge was fitted without feature names\n",
      "X has feature names, but Ridge was fitted without feature names\n",
      "X has feature names, but Ridge was fitted without feature names\n",
      "X has feature names, but Ridge was fitted without feature names\n",
      "X has feature names, but Ridge was fitted without feature names\n",
      "X has feature names, but Ridge was fitted without feature names\n",
      "X has feature names, but Ridge was fitted without feature names\n",
      "X has feature names, but Ridge was fitted without feature names\n",
      "X has feature names, but Ridge was fitted without feature names\n",
      "X has feature names, but Ridge was fitted without feature names\n",
      "X has feature names, but Ridge was fitted without feature names\n",
      "X has feature names, but Ridge was fitted without feature names\n",
      "X has feature names, but Ridge was fitted without feature names\n",
      "X has feature names, but Ridge was fitted without feature names\n",
      "X has feature names, but Ridge was fitted without feature names\n",
      "X has feature names, but Ridge was fitted without feature names\n",
      "X has feature names, but Ridge was fitted without feature names\n",
      "X has feature names, but Ridge was fitted without feature names\n",
      "X has feature names, but Ridge was fitted without feature names\n",
      "X has feature names, but Ridge was fitted without feature names\n",
      "X has feature names, but Ridge was fitted without feature names\n",
      "X has feature names, but Ridge was fitted without feature names\n",
      "X has feature names, but Ridge was fitted without feature names\n",
      "X has feature names, but Ridge was fitted without feature names\n",
      "X has feature names, but Ridge was fitted without feature names\n",
      "X has feature names, but Ridge was fitted without feature names\n",
      "X has feature names, but Ridge was fitted without feature names\n",
      "X has feature names, but Ridge was fitted without feature names\n",
      "X has feature names, but Ridge was fitted without feature names\n",
      "X has feature names, but Ridge was fitted without feature names\n",
      "X has feature names, but Ridge was fitted without feature names\n",
      "X has feature names, but Ridge was fitted without feature names\n",
      "X has feature names, but Ridge was fitted without feature names\n",
      "X has feature names, but Ridge was fitted without feature names\n",
      "X has feature names, but Ridge was fitted without feature names\n",
      "X has feature names, but Ridge was fitted without feature names\n",
      "X has feature names, but Ridge was fitted without feature names\n",
      "X has feature names, but Ridge was fitted without feature names\n",
      "X has feature names, but Ridge was fitted without feature names\n",
      "X has feature names, but Ridge was fitted without feature names\n",
      "X has feature names, but Ridge was fitted without feature names\n",
      "X has feature names, but Ridge was fitted without feature names\n",
      "X has feature names, but Ridge was fitted without feature names\n",
      "X has feature names, but Ridge was fitted without feature names\n",
      "X has feature names, but Ridge was fitted without feature names\n",
      "X has feature names, but Ridge was fitted without feature names\n",
      "X has feature names, but Ridge was fitted without feature names\n",
      "X has feature names, but Ridge was fitted without feature names\n",
      "X has feature names, but Ridge was fitted without feature names\n",
      "X has feature names, but Ridge was fitted without feature names\n",
      "X has feature names, but Ridge was fitted without feature names\n",
      "X has feature names, but Ridge was fitted without feature names\n",
      "X has feature names, but Ridge was fitted without feature names\n",
      "X has feature names, but Ridge was fitted without feature names\n",
      "X has feature names, but Ridge was fitted without feature names\n",
      "X has feature names, but Ridge was fitted without feature names\n",
      "X has feature names, but Ridge was fitted without feature names\n",
      "X has feature names, but Ridge was fitted without feature names\n",
      "X has feature names, but Ridge was fitted without feature names\n",
      "X has feature names, but Ridge was fitted without feature names\n",
      "X has feature names, but Ridge was fitted without feature names\n",
      "X has feature names, but Ridge was fitted without feature names\n",
      "X has feature names, but Ridge was fitted without feature names\n",
      "X has feature names, but Ridge was fitted without feature names\n",
      "X has feature names, but Ridge was fitted without feature names\n",
      "X has feature names, but Ridge was fitted without feature names\n",
      "X has feature names, but Ridge was fitted without feature names\n",
      "X has feature names, but Ridge was fitted without feature names\n",
      "X has feature names, but Ridge was fitted without feature names\n",
      "X has feature names, but Ridge was fitted without feature names\n",
      "X has feature names, but Ridge was fitted without feature names\n",
      "X has feature names, but Ridge was fitted without feature names\n",
      "X has feature names, but Ridge was fitted without feature names\n",
      "X has feature names, but Ridge was fitted without feature names\n",
      "X has feature names, but Ridge was fitted without feature names\n",
      "X has feature names, but Ridge was fitted without feature names\n",
      "X has feature names, but Ridge was fitted without feature names\n",
      "X has feature names, but Ridge was fitted without feature names\n",
      "X has feature names, but Ridge was fitted without feature names\n",
      "X has feature names, but Ridge was fitted without feature names\n",
      "X has feature names, but Ridge was fitted without feature names\n",
      "X has feature names, but Ridge was fitted without feature names\n",
      "X has feature names, but Ridge was fitted without feature names\n",
      "X has feature names, but Ridge was fitted without feature names\n",
      "X has feature names, but Ridge was fitted without feature names\n",
      "X has feature names, but Ridge was fitted without feature names\n",
      "X has feature names, but Ridge was fitted without feature names\n",
      "X has feature names, but Ridge was fitted without feature names\n",
      "X has feature names, but Ridge was fitted without feature names\n",
      "X has feature names, but Ridge was fitted without feature names\n",
      "X has feature names, but Ridge was fitted without feature names\n",
      "X has feature names, but Ridge was fitted without feature names\n",
      "X has feature names, but Ridge was fitted without feature names\n",
      "X has feature names, but Ridge was fitted without feature names\n",
      "X has feature names, but Ridge was fitted without feature names\n",
      "X has feature names, but Ridge was fitted without feature names\n",
      "X has feature names, but Ridge was fitted without feature names\n",
      "X has feature names, but Ridge was fitted without feature names\n",
      "X has feature names, but Ridge was fitted without feature names\n",
      "X has feature names, but Ridge was fitted without feature names\n",
      "X has feature names, but Ridge was fitted without feature names\n",
      "X has feature names, but Ridge was fitted without feature names\n",
      "X has feature names, but Ridge was fitted without feature names\n",
      "X has feature names, but Ridge was fitted without feature names\n",
      "X has feature names, but Ridge was fitted without feature names\n",
      "X has feature names, but Ridge was fitted without feature names\n",
      "X has feature names, but Ridge was fitted without feature names\n",
      "X has feature names, but Ridge was fitted without feature names\n",
      "X has feature names, but Ridge was fitted without feature names\n",
      "X has feature names, but Ridge was fitted without feature names\n",
      "X has feature names, but Ridge was fitted without feature names\n",
      "X has feature names, but Ridge was fitted without feature names\n",
      "X has feature names, but Ridge was fitted without feature names\n",
      "X has feature names, but Ridge was fitted without feature names\n",
      "X has feature names, but Ridge was fitted without feature names\n",
      "X has feature names, but Ridge was fitted without feature names\n",
      "X has feature names, but Ridge was fitted without feature names\n",
      "X has feature names, but Ridge was fitted without feature names\n",
      "X has feature names, but Ridge was fitted without feature names\n",
      "X has feature names, but Ridge was fitted without feature names\n",
      "X has feature names, but Ridge was fitted without feature names\n",
      "X has feature names, but Ridge was fitted without feature names\n",
      "X has feature names, but Ridge was fitted without feature names\n",
      "X has feature names, but Ridge was fitted without feature names\n",
      "X has feature names, but Ridge was fitted without feature names\n",
      "X has feature names, but Ridge was fitted without feature names\n",
      "X has feature names, but Ridge was fitted without feature names\n",
      "X has feature names, but Ridge was fitted without feature names\n",
      "X has feature names, but Ridge was fitted without feature names\n",
      "X has feature names, but Ridge was fitted without feature names\n",
      "X has feature names, but Ridge was fitted without feature names\n",
      "X has feature names, but Ridge was fitted without feature names\n",
      "X has feature names, but Ridge was fitted without feature names\n",
      "X has feature names, but Ridge was fitted without feature names\n",
      "X has feature names, but Ridge was fitted without feature names\n",
      "X has feature names, but Ridge was fitted without feature names\n",
      "X has feature names, but Ridge was fitted without feature names\n",
      "X has feature names, but Ridge was fitted without feature names\n",
      "X has feature names, but Ridge was fitted without feature names\n",
      "X has feature names, but Ridge was fitted without feature names\n",
      "X has feature names, but Ridge was fitted without feature names\n",
      "X has feature names, but Ridge was fitted without feature names\n",
      "X has feature names, but Ridge was fitted without feature names\n",
      "X has feature names, but Ridge was fitted without feature names\n",
      "X has feature names, but Ridge was fitted without feature names\n",
      "X has feature names, but Ridge was fitted without feature names\n",
      "X has feature names, but Ridge was fitted without feature names\n",
      "X has feature names, but Ridge was fitted without feature names\n",
      "X has feature names, but Ridge was fitted without feature names\n",
      "X has feature names, but Ridge was fitted without feature names\n",
      "X has feature names, but Ridge was fitted without feature names\n",
      "X has feature names, but Ridge was fitted without feature names\n",
      "X has feature names, but Ridge was fitted without feature names\n",
      "X has feature names, but Ridge was fitted without feature names\n",
      "X has feature names, but Ridge was fitted without feature names\n",
      "X has feature names, but Ridge was fitted without feature names\n",
      "X has feature names, but Ridge was fitted without feature names\n",
      "X has feature names, but Ridge was fitted without feature names\n",
      "X has feature names, but Ridge was fitted without feature names\n",
      "X has feature names, but Ridge was fitted without feature names\n",
      "X has feature names, but Ridge was fitted without feature names\n",
      "X has feature names, but Ridge was fitted without feature names\n",
      "X has feature names, but Ridge was fitted without feature names\n",
      "X has feature names, but Ridge was fitted without feature names\n",
      "X has feature names, but Ridge was fitted without feature names\n",
      "X has feature names, but Ridge was fitted without feature names\n",
      "X has feature names, but Ridge was fitted without feature names\n",
      "X has feature names, but Ridge was fitted without feature names\n",
      "X has feature names, but Ridge was fitted without feature names\n",
      "X has feature names, but Ridge was fitted without feature names\n",
      "X has feature names, but Ridge was fitted without feature names\n",
      "X has feature names, but Ridge was fitted without feature names\n",
      "X has feature names, but Ridge was fitted without feature names\n",
      "X has feature names, but Ridge was fitted without feature names\n",
      "X has feature names, but Ridge was fitted without feature names\n",
      "X has feature names, but Ridge was fitted without feature names\n",
      "X has feature names, but Ridge was fitted without feature names\n",
      "X has feature names, but Ridge was fitted without feature names\n",
      "X has feature names, but Ridge was fitted without feature names\n",
      "X has feature names, but Ridge was fitted without feature names\n",
      "X has feature names, but Ridge was fitted without feature names\n",
      "X has feature names, but Ridge was fitted without feature names\n",
      "X has feature names, but Ridge was fitted without feature names\n",
      "X has feature names, but Ridge was fitted without feature names\n",
      "X has feature names, but Ridge was fitted without feature names\n",
      "X has feature names, but Ridge was fitted without feature names\n",
      "X has feature names, but Ridge was fitted without feature names\n",
      "X has feature names, but Ridge was fitted without feature names\n",
      "X has feature names, but Ridge was fitted without feature names\n",
      "X has feature names, but Ridge was fitted without feature names\n",
      "X has feature names, but Ridge was fitted without feature names\n",
      "X has feature names, but Ridge was fitted without feature names\n",
      "X has feature names, but Ridge was fitted without feature names\n",
      "X has feature names, but Ridge was fitted without feature names\n",
      "X has feature names, but Ridge was fitted without feature names\n",
      "X has feature names, but Ridge was fitted without feature names\n",
      "X has feature names, but Ridge was fitted without feature names\n",
      "X has feature names, but Ridge was fitted without feature names\n",
      "X has feature names, but Ridge was fitted without feature names\n",
      "X has feature names, but Ridge was fitted without feature names\n",
      "X has feature names, but Ridge was fitted without feature names\n",
      "X has feature names, but Ridge was fitted without feature names\n",
      "X has feature names, but Ridge was fitted without feature names\n",
      "X has feature names, but Ridge was fitted without feature names\n",
      "X has feature names, but Ridge was fitted without feature names\n",
      "X has feature names, but Ridge was fitted without feature names\n",
      "X has feature names, but Ridge was fitted without feature names\n",
      "X has feature names, but Ridge was fitted without feature names\n",
      "X has feature names, but Ridge was fitted without feature names\n",
      "X has feature names, but Ridge was fitted without feature names\n",
      "X has feature names, but Ridge was fitted without feature names\n",
      "X has feature names, but Ridge was fitted without feature names\n"
     ]
    },
    {
     "name": "stderr",
     "output_type": "stream",
     "text": [
      "X has feature names, but Ridge was fitted without feature names\n",
      "X has feature names, but Ridge was fitted without feature names\n",
      "X has feature names, but Ridge was fitted without feature names\n",
      "X has feature names, but Ridge was fitted without feature names\n",
      "X has feature names, but Ridge was fitted without feature names\n",
      "X has feature names, but Ridge was fitted without feature names\n",
      "X has feature names, but Ridge was fitted without feature names\n",
      "X has feature names, but Ridge was fitted without feature names\n",
      "X has feature names, but Ridge was fitted without feature names\n",
      "X has feature names, but Ridge was fitted without feature names\n",
      "X has feature names, but Ridge was fitted without feature names\n",
      "X has feature names, but Ridge was fitted without feature names\n",
      "X has feature names, but Ridge was fitted without feature names\n",
      "X has feature names, but Ridge was fitted without feature names\n",
      "X has feature names, but Ridge was fitted without feature names\n",
      "X has feature names, but Ridge was fitted without feature names\n",
      "X has feature names, but Ridge was fitted without feature names\n",
      "X has feature names, but Ridge was fitted without feature names\n",
      "X has feature names, but Ridge was fitted without feature names\n",
      "X has feature names, but Ridge was fitted without feature names\n",
      "X has feature names, but Ridge was fitted without feature names\n",
      "X has feature names, but Ridge was fitted without feature names\n",
      "X has feature names, but Ridge was fitted without feature names\n",
      "X has feature names, but Ridge was fitted without feature names\n",
      "X has feature names, but Ridge was fitted without feature names\n",
      "X has feature names, but Ridge was fitted without feature names\n",
      "X has feature names, but Ridge was fitted without feature names\n",
      "X has feature names, but Ridge was fitted without feature names\n",
      "X has feature names, but Ridge was fitted without feature names\n",
      "X has feature names, but Ridge was fitted without feature names\n",
      "X has feature names, but Ridge was fitted without feature names\n",
      "X has feature names, but Ridge was fitted without feature names\n",
      "X has feature names, but Ridge was fitted without feature names\n",
      "X has feature names, but Ridge was fitted without feature names\n",
      "X has feature names, but Ridge was fitted without feature names\n",
      "X has feature names, but Ridge was fitted without feature names\n",
      "X has feature names, but Ridge was fitted without feature names\n",
      "X has feature names, but Ridge was fitted without feature names\n",
      "X has feature names, but Ridge was fitted without feature names\n",
      "X has feature names, but Ridge was fitted without feature names\n",
      "X has feature names, but Ridge was fitted without feature names\n",
      "X has feature names, but Ridge was fitted without feature names\n",
      "X has feature names, but Ridge was fitted without feature names\n",
      "X has feature names, but Ridge was fitted without feature names\n",
      "X has feature names, but Ridge was fitted without feature names\n",
      "X has feature names, but Ridge was fitted without feature names\n",
      "X has feature names, but Ridge was fitted without feature names\n",
      "X has feature names, but Ridge was fitted without feature names\n",
      "X has feature names, but Ridge was fitted without feature names\n",
      "X has feature names, but Ridge was fitted without feature names\n",
      "X has feature names, but Ridge was fitted without feature names\n",
      "X has feature names, but Ridge was fitted without feature names\n",
      "X has feature names, but Ridge was fitted without feature names\n",
      "X has feature names, but Ridge was fitted without feature names\n",
      "X has feature names, but Ridge was fitted without feature names\n",
      "X has feature names, but Ridge was fitted without feature names\n",
      "X has feature names, but Ridge was fitted without feature names\n",
      "X has feature names, but Ridge was fitted without feature names\n",
      "X has feature names, but Ridge was fitted without feature names\n",
      "X has feature names, but Ridge was fitted without feature names\n",
      "X has feature names, but Ridge was fitted without feature names\n",
      "X has feature names, but Ridge was fitted without feature names\n",
      "X has feature names, but Ridge was fitted without feature names\n",
      "X has feature names, but Ridge was fitted without feature names\n",
      "X has feature names, but Ridge was fitted without feature names\n",
      "X has feature names, but Ridge was fitted without feature names\n",
      "X has feature names, but Ridge was fitted without feature names\n",
      "X has feature names, but Ridge was fitted without feature names\n",
      "X has feature names, but Ridge was fitted without feature names\n",
      "X has feature names, but Ridge was fitted without feature names\n",
      "X has feature names, but Ridge was fitted without feature names\n",
      "X has feature names, but Ridge was fitted without feature names\n",
      "X has feature names, but Ridge was fitted without feature names\n",
      "X has feature names, but Ridge was fitted without feature names\n",
      "X has feature names, but Ridge was fitted without feature names\n",
      "X has feature names, but Ridge was fitted without feature names\n",
      "X has feature names, but Ridge was fitted without feature names\n",
      "X has feature names, but Ridge was fitted without feature names\n",
      "X has feature names, but Ridge was fitted without feature names\n",
      "X has feature names, but Ridge was fitted without feature names\n",
      "X has feature names, but Ridge was fitted without feature names\n",
      "X has feature names, but Ridge was fitted without feature names\n",
      "X has feature names, but Ridge was fitted without feature names\n",
      "X has feature names, but Ridge was fitted without feature names\n",
      "X has feature names, but Ridge was fitted without feature names\n",
      "X has feature names, but Ridge was fitted without feature names\n",
      "X has feature names, but Ridge was fitted without feature names\n",
      "X has feature names, but Ridge was fitted without feature names\n",
      "X has feature names, but Ridge was fitted without feature names\n",
      "X has feature names, but Ridge was fitted without feature names\n",
      "X has feature names, but Ridge was fitted without feature names\n",
      "X has feature names, but Ridge was fitted without feature names\n",
      "X has feature names, but Ridge was fitted without feature names\n",
      "X has feature names, but Ridge was fitted without feature names\n",
      "X has feature names, but Ridge was fitted without feature names\n",
      "X has feature names, but Ridge was fitted without feature names\n",
      "X has feature names, but Ridge was fitted without feature names\n",
      "X has feature names, but Ridge was fitted without feature names\n",
      "X has feature names, but Ridge was fitted without feature names\n",
      "X has feature names, but Ridge was fitted without feature names\n",
      "X has feature names, but Ridge was fitted without feature names\n",
      "X has feature names, but Ridge was fitted without feature names\n",
      "X has feature names, but Ridge was fitted without feature names\n",
      "X has feature names, but Ridge was fitted without feature names\n",
      "X has feature names, but Ridge was fitted without feature names\n",
      "X has feature names, but Ridge was fitted without feature names\n",
      "X has feature names, but Ridge was fitted without feature names\n",
      "X has feature names, but Ridge was fitted without feature names\n",
      "X has feature names, but Ridge was fitted without feature names\n",
      "X has feature names, but Ridge was fitted without feature names\n",
      "X has feature names, but Ridge was fitted without feature names\n",
      "X has feature names, but Ridge was fitted without feature names\n",
      "X has feature names, but Ridge was fitted without feature names\n",
      "X has feature names, but Ridge was fitted without feature names\n",
      "X has feature names, but Ridge was fitted without feature names\n",
      "X has feature names, but Ridge was fitted without feature names\n",
      "X has feature names, but Ridge was fitted without feature names\n",
      "X has feature names, but Ridge was fitted without feature names\n",
      "X has feature names, but Ridge was fitted without feature names\n",
      "X has feature names, but Ridge was fitted without feature names\n",
      "X has feature names, but Ridge was fitted without feature names\n",
      "X has feature names, but Ridge was fitted without feature names\n",
      "X has feature names, but Ridge was fitted without feature names\n",
      "X has feature names, but Ridge was fitted without feature names\n",
      "X has feature names, but Ridge was fitted without feature names\n",
      "X has feature names, but Ridge was fitted without feature names\n",
      "X has feature names, but Ridge was fitted without feature names\n",
      "X has feature names, but Ridge was fitted without feature names\n",
      "X has feature names, but Ridge was fitted without feature names\n",
      "X has feature names, but Ridge was fitted without feature names\n",
      "X has feature names, but Ridge was fitted without feature names\n",
      "X has feature names, but Ridge was fitted without feature names\n",
      "X has feature names, but Ridge was fitted without feature names\n",
      "X has feature names, but Ridge was fitted without feature names\n",
      "X has feature names, but Ridge was fitted without feature names\n",
      "X has feature names, but Ridge was fitted without feature names\n",
      "X has feature names, but Ridge was fitted without feature names\n",
      "X has feature names, but Ridge was fitted without feature names\n",
      "X has feature names, but Ridge was fitted without feature names\n",
      "X has feature names, but Ridge was fitted without feature names\n",
      "X has feature names, but Ridge was fitted without feature names\n",
      "X has feature names, but Ridge was fitted without feature names\n",
      "X has feature names, but Ridge was fitted without feature names\n",
      "X has feature names, but Ridge was fitted without feature names\n",
      "X has feature names, but Ridge was fitted without feature names\n",
      "X has feature names, but Ridge was fitted without feature names\n",
      "X has feature names, but Ridge was fitted without feature names\n",
      "X has feature names, but Ridge was fitted without feature names\n",
      "X has feature names, but Ridge was fitted without feature names\n",
      "X has feature names, but Ridge was fitted without feature names\n",
      "X has feature names, but Ridge was fitted without feature names\n",
      "X has feature names, but Ridge was fitted without feature names\n",
      "X has feature names, but Ridge was fitted without feature names\n",
      "X has feature names, but Ridge was fitted without feature names\n",
      "X has feature names, but Ridge was fitted without feature names\n",
      "X has feature names, but Ridge was fitted without feature names\n",
      "X has feature names, but Ridge was fitted without feature names\n",
      "X has feature names, but Ridge was fitted without feature names\n",
      "X has feature names, but Ridge was fitted without feature names\n",
      "X has feature names, but Ridge was fitted without feature names\n",
      "X has feature names, but Ridge was fitted without feature names\n",
      "X has feature names, but Ridge was fitted without feature names\n",
      "X has feature names, but Ridge was fitted without feature names\n",
      "X has feature names, but Ridge was fitted without feature names\n",
      "X has feature names, but Ridge was fitted without feature names\n",
      "X has feature names, but Ridge was fitted without feature names\n",
      "X has feature names, but Ridge was fitted without feature names\n",
      "X has feature names, but Ridge was fitted without feature names\n",
      "X has feature names, but Ridge was fitted without feature names\n",
      "X has feature names, but Ridge was fitted without feature names\n",
      "X has feature names, but Ridge was fitted without feature names\n",
      "X has feature names, but Ridge was fitted without feature names\n",
      "X has feature names, but Ridge was fitted without feature names\n",
      "X has feature names, but Ridge was fitted without feature names\n",
      "X has feature names, but Ridge was fitted without feature names\n",
      "X has feature names, but Ridge was fitted without feature names\n"
     ]
    },
    {
     "name": "stdout",
     "output_type": "stream",
     "text": [
      "(379, 13)\n",
      "(379, 12)\n",
      "(379, 11)\n",
      "(379, 10)\n",
      "(379, 9)\n",
      "(379, 8)\n"
     ]
    }
   ],
   "source": [
    "selected,dropped=automatic_feature_select(model,mape,\"permutation\",X_train, y_train, X_val, y_val)"
   ]
  },
  {
   "cell_type": "code",
   "execution_count": 217,
   "id": "d00fba42",
   "metadata": {},
   "outputs": [
    {
     "data": {
      "text/plain": [
       "[1, 11, 10, 9, 8, 7, 0, 12]"
      ]
     },
     "execution_count": 217,
     "metadata": {},
     "output_type": "execute_result"
    }
   ],
   "source": [
    "list(selected[:,0].astype(int))"
   ]
  },
  {
   "cell_type": "code",
   "execution_count": 219,
   "id": "d840cb60",
   "metadata": {},
   "outputs": [
    {
     "data": {
      "text/plain": [
       "Index(['ZN', 'B', 'PTRATIO', 'TAX', 'RAD', 'DIS', 'CRIM', 'LSTAT'], dtype='object')"
      ]
     },
     "execution_count": 219,
     "metadata": {},
     "output_type": "execute_result"
    }
   ],
   "source": [
    "X.columns[selected[:,0].astype(int)]"
   ]
  },
  {
   "cell_type": "code",
   "execution_count": 220,
   "id": "9c1fe52d",
   "metadata": {},
   "outputs": [
    {
     "data": {
      "text/plain": [
       "Text(0.5, 1.0, 'Drop Column Importance')"
      ]
     },
     "execution_count": 220,
     "metadata": {},
     "output_type": "execute_result"
    },
    {
     "data": {
      "image/png": "[encoded data removed]",
      "text/plain": [
       "<Figure size 432x288 with 1 Axes>"
      ]
     },
     "metadata": {},
     "output_type": "display_data"
    }
   ],
   "source": [
    "\n",
    "sortindx = selected[:,1].argsort()[::-1]\n",
    "sorted_drop=pd.DataFrame(selected,columns=['Variable','Importance']).iloc[sortindx]\n",
    "sorted_drop[\"Variable\"]=X.columns[list(selected[:,0].astype(int))]\n",
    "sb.set_style(\"darkgrid\")\n",
    "p=sb.barplot(x='Importance', y='Variable', data=sorted_drop,orient='h')\n",
    "p.set_xlabel('Importance(Loss)')\n",
    "p.set_title('Drop Column Importance')\n",
    "\n"
   ]
  },
  {
   "cell_type": "code",
   "execution_count": 20,
   "id": "19f81d00",
   "metadata": {},
   "outputs": [
    {
     "data": {
      "text/plain": [
       "Ridge(alpha=0.01)"
      ]
     },
     "execution_count": 20,
     "metadata": {},
     "output_type": "execute_result"
    }
   ],
   "source": [
    "#model=LogisticRegression()\n",
    "#model.fit(X,y)\n",
    "model = Ridge(alpha=1e-2)\n",
    "model.fit(X_train,y_train)"
   ]
  },
  {
   "cell_type": "code",
   "execution_count": 1,
   "id": "a05a933b",
   "metadata": {},
   "outputs": [],
   "source": [
    "#Variance of Feature Importance: BootStrapping"
   ]
  },
  {
   "cell_type": "code",
   "execution_count": 178,
   "id": "df4071e9",
   "metadata": {},
   "outputs": [],
   "source": [
    "def var_fi(data, times):\n",
    "    varimps=[]\n",
    "    for i in range(0,times):\n",
    "        print(i)\n",
    "        bootsp_data_X=pd.DataFrame(np.hstack((data.data,data.target.reshape(-1,1)))).sample(frac=0.5, replace=False)\n",
    "        X_train, X_val, y_train, y_val = train_test_split(bootsp_data_X.iloc[:,:-1], bootsp_data_X.iloc[:,-1])\n",
    "        imp=pd.DataFrame(permutation_importances(model, rsquared,X_val, y_val),columns=['Variable','Importance'])\n",
    "        #dropcol_importances(model, rsquared,X_train, y_train,X_val, y_val)\n",
    "        sc = MinMaxScaler(feature_range=(0, 1))\n",
    "        data_norm = sc.fit_transform(np.array(imp)[:,1].reshape(-1,1))\n",
    "        imp=np.hstack((np.array(imp)[:,0].reshape(-1,1),data_norm))\n",
    "        varimps.append(imp)\n",
    "    cols=bootsp_data_X.shape[1]-1 \n",
    "    var_df=pd.DataFrame(np.array(varimps).reshape(cols*times,2))\n",
    "    var_df.columns=['col','val_vi']\n",
    "    result = var_df.groupby(['col'], as_index=False).agg({'val_vi':['mean','std','count']})\n",
    "    result['relative_mean']=(result['val_vi']['mean']*1.00)/sum(result['val_vi']['mean'])\n",
    "    result['max_CI']=(result['relative_mean']+(2*result['val_vi']['std']/np.sqrt(result['val_vi']['count'])))/2\n",
    "    result['min_CI']=(result['relative_mean']-(2*result['val_vi']['std']/np.sqrt(result['val_vi']['count'])))/2\n",
    "    return var_df,result\n",
    "    "
   ]
  },
  {
   "cell_type": "code",
   "execution_count": 179,
   "id": "4006e069",
   "metadata": {},
   "outputs": [
    {
     "name": "stdout",
     "output_type": "stream",
     "text": [
      "0\n",
      "1\n",
      "2\n",
      "3\n",
      "4\n",
      "5\n",
      "6\n",
      "7\n",
      "8\n",
      "9\n",
      "10\n",
      "11\n",
      "12\n",
      "13\n",
      "14\n",
      "15\n"
     ]
    },
    {
     "name": "stderr",
     "output_type": "stream",
     "text": [
      "X does not have valid feature names, but Ridge was fitted with feature names\n",
      "X does not have valid feature names, but Ridge was fitted with feature names\n",
      "X does not have valid feature names, but Ridge was fitted with feature names\n",
      "X does not have valid feature names, but Ridge was fitted with feature names\n",
      "X does not have valid feature names, but Ridge was fitted with feature names\n",
      "X does not have valid feature names, but Ridge was fitted with feature names\n",
      "X does not have valid feature names, but Ridge was fitted with feature names\n",
      "X does not have valid feature names, but Ridge was fitted with feature names\n",
      "X does not have valid feature names, but Ridge was fitted with feature names\n",
      "X does not have valid feature names, but Ridge was fitted with feature names\n",
      "X does not have valid feature names, but Ridge was fitted with feature names\n",
      "X does not have valid feature names, but Ridge was fitted with feature names\n",
      "X does not have valid feature names, but Ridge was fitted with feature names\n",
      "X does not have valid feature names, but Ridge was fitted with feature names\n",
      "X does not have valid feature names, but Ridge was fitted with feature names\n",
      "X does not have valid feature names, but Ridge was fitted with feature names\n",
      "X does not have valid feature names, but Ridge was fitted with feature names\n",
      "X does not have valid feature names, but Ridge was fitted with feature names\n",
      "X does not have valid feature names, but Ridge was fitted with feature names\n",
      "X does not have valid feature names, but Ridge was fitted with feature names\n",
      "X does not have valid feature names, but Ridge was fitted with feature names\n",
      "X does not have valid feature names, but Ridge was fitted with feature names\n",
      "X does not have valid feature names, but Ridge was fitted with feature names\n",
      "X does not have valid feature names, but Ridge was fitted with feature names\n",
      "X does not have valid feature names, but Ridge was fitted with feature names\n",
      "X does not have valid feature names, but Ridge was fitted with feature names\n",
      "X does not have valid feature names, but Ridge was fitted with feature names\n",
      "X does not have valid feature names, but Ridge was fitted with feature names\n",
      "X does not have valid feature names, but Ridge was fitted with feature names\n",
      "X does not have valid feature names, but Ridge was fitted with feature names\n",
      "X does not have valid feature names, but Ridge was fitted with feature names\n",
      "X does not have valid feature names, but Ridge was fitted with feature names\n",
      "X does not have valid feature names, but Ridge was fitted with feature names\n",
      "X does not have valid feature names, but Ridge was fitted with feature names\n",
      "X does not have valid feature names, but Ridge was fitted with feature names\n",
      "X does not have valid feature names, but Ridge was fitted with feature names\n",
      "X does not have valid feature names, but Ridge was fitted with feature names\n",
      "X does not have valid feature names, but Ridge was fitted with feature names\n",
      "X does not have valid feature names, but Ridge was fitted with feature names\n",
      "X does not have valid feature names, but Ridge was fitted with feature names\n",
      "X does not have valid feature names, but Ridge was fitted with feature names\n",
      "X does not have valid feature names, but Ridge was fitted with feature names\n",
      "X does not have valid feature names, but Ridge was fitted with feature names\n",
      "X does not have valid feature names, but Ridge was fitted with feature names\n",
      "X does not have valid feature names, but Ridge was fitted with feature names\n",
      "X does not have valid feature names, but Ridge was fitted with feature names\n",
      "X does not have valid feature names, but Ridge was fitted with feature names\n",
      "X does not have valid feature names, but Ridge was fitted with feature names\n",
      "X does not have valid feature names, but Ridge was fitted with feature names\n",
      "X does not have valid feature names, but Ridge was fitted with feature names\n",
      "X does not have valid feature names, but Ridge was fitted with feature names\n",
      "X does not have valid feature names, but Ridge was fitted with feature names\n",
      "X does not have valid feature names, but Ridge was fitted with feature names\n",
      "X does not have valid feature names, but Ridge was fitted with feature names\n",
      "X does not have valid feature names, but Ridge was fitted with feature names\n",
      "X does not have valid feature names, but Ridge was fitted with feature names\n",
      "X does not have valid feature names, but Ridge was fitted with feature names\n",
      "X does not have valid feature names, but Ridge was fitted with feature names\n",
      "X does not have valid feature names, but Ridge was fitted with feature names\n",
      "X does not have valid feature names, but Ridge was fitted with feature names\n",
      "X does not have valid feature names, but Ridge was fitted with feature names\n",
      "X does not have valid feature names, but Ridge was fitted with feature names\n",
      "X does not have valid feature names, but Ridge was fitted with feature names\n",
      "X does not have valid feature names, but Ridge was fitted with feature names\n",
      "X does not have valid feature names, but Ridge was fitted with feature names\n",
      "X does not have valid feature names, but Ridge was fitted with feature names\n",
      "X does not have valid feature names, but Ridge was fitted with feature names\n",
      "X does not have valid feature names, but Ridge was fitted with feature names\n",
      "X does not have valid feature names, but Ridge was fitted with feature names\n",
      "X does not have valid feature names, but Ridge was fitted with feature names\n",
      "X does not have valid feature names, but Ridge was fitted with feature names\n",
      "X does not have valid feature names, but Ridge was fitted with feature names\n",
      "X does not have valid feature names, but Ridge was fitted with feature names\n",
      "X does not have valid feature names, but Ridge was fitted with feature names\n",
      "X does not have valid feature names, but Ridge was fitted with feature names\n",
      "X does not have valid feature names, but Ridge was fitted with feature names\n",
      "X does not have valid feature names, but Ridge was fitted with feature names\n",
      "X does not have valid feature names, but Ridge was fitted with feature names\n",
      "X does not have valid feature names, but Ridge was fitted with feature names\n",
      "X does not have valid feature names, but Ridge was fitted with feature names\n",
      "X does not have valid feature names, but Ridge was fitted with feature names\n",
      "X does not have valid feature names, but Ridge was fitted with feature names\n",
      "X does not have valid feature names, but Ridge was fitted with feature names\n",
      "X does not have valid feature names, but Ridge was fitted with feature names\n",
      "X does not have valid feature names, but Ridge was fitted with feature names\n",
      "X does not have valid feature names, but Ridge was fitted with feature names\n",
      "X does not have valid feature names, but Ridge was fitted with feature names\n",
      "X does not have valid feature names, but Ridge was fitted with feature names\n",
      "X does not have valid feature names, but Ridge was fitted with feature names\n",
      "X does not have valid feature names, but Ridge was fitted with feature names\n",
      "X does not have valid feature names, but Ridge was fitted with feature names\n",
      "X does not have valid feature names, but Ridge was fitted with feature names\n",
      "X does not have valid feature names, but Ridge was fitted with feature names\n",
      "X does not have valid feature names, but Ridge was fitted with feature names\n",
      "X does not have valid feature names, but Ridge was fitted with feature names\n",
      "X does not have valid feature names, but Ridge was fitted with feature names\n",
      "X does not have valid feature names, but Ridge was fitted with feature names\n",
      "X does not have valid feature names, but Ridge was fitted with feature names\n",
      "X does not have valid feature names, but Ridge was fitted with feature names\n",
      "X does not have valid feature names, but Ridge was fitted with feature names\n",
      "X does not have valid feature names, but Ridge was fitted with feature names\n",
      "X does not have valid feature names, but Ridge was fitted with feature names\n",
      "X does not have valid feature names, but Ridge was fitted with feature names\n",
      "X does not have valid feature names, but Ridge was fitted with feature names\n",
      "X does not have valid feature names, but Ridge was fitted with feature names\n",
      "X does not have valid feature names, but Ridge was fitted with feature names\n",
      "X does not have valid feature names, but Ridge was fitted with feature names\n",
      "X does not have valid feature names, but Ridge was fitted with feature names\n",
      "X does not have valid feature names, but Ridge was fitted with feature names\n",
      "X does not have valid feature names, but Ridge was fitted with feature names\n",
      "X does not have valid feature names, but Ridge was fitted with feature names\n",
      "X does not have valid feature names, but Ridge was fitted with feature names\n",
      "X does not have valid feature names, but Ridge was fitted with feature names\n",
      "X does not have valid feature names, but Ridge was fitted with feature names\n",
      "X does not have valid feature names, but Ridge was fitted with feature names\n",
      "X does not have valid feature names, but Ridge was fitted with feature names\n",
      "X does not have valid feature names, but Ridge was fitted with feature names\n",
      "X does not have valid feature names, but Ridge was fitted with feature names\n",
      "X does not have valid feature names, but Ridge was fitted with feature names\n",
      "X does not have valid feature names, but Ridge was fitted with feature names\n",
      "X does not have valid feature names, but Ridge was fitted with feature names\n",
      "X does not have valid feature names, but Ridge was fitted with feature names\n",
      "X does not have valid feature names, but Ridge was fitted with feature names\n",
      "X does not have valid feature names, but Ridge was fitted with feature names\n",
      "X does not have valid feature names, but Ridge was fitted with feature names\n",
      "X does not have valid feature names, but Ridge was fitted with feature names\n",
      "X does not have valid feature names, but Ridge was fitted with feature names\n",
      "X does not have valid feature names, but Ridge was fitted with feature names\n",
      "X does not have valid feature names, but Ridge was fitted with feature names\n",
      "X does not have valid feature names, but Ridge was fitted with feature names\n",
      "X does not have valid feature names, but Ridge was fitted with feature names\n",
      "X does not have valid feature names, but Ridge was fitted with feature names\n",
      "X does not have valid feature names, but Ridge was fitted with feature names\n",
      "X does not have valid feature names, but Ridge was fitted with feature names\n",
      "X does not have valid feature names, but Ridge was fitted with feature names\n",
      "X does not have valid feature names, but Ridge was fitted with feature names\n",
      "X does not have valid feature names, but Ridge was fitted with feature names\n",
      "X does not have valid feature names, but Ridge was fitted with feature names\n",
      "X does not have valid feature names, but Ridge was fitted with feature names\n",
      "X does not have valid feature names, but Ridge was fitted with feature names\n",
      "X does not have valid feature names, but Ridge was fitted with feature names\n",
      "X does not have valid feature names, but Ridge was fitted with feature names\n",
      "X does not have valid feature names, but Ridge was fitted with feature names\n",
      "X does not have valid feature names, but Ridge was fitted with feature names\n",
      "X does not have valid feature names, but Ridge was fitted with feature names\n",
      "X does not have valid feature names, but Ridge was fitted with feature names\n",
      "X does not have valid feature names, but Ridge was fitted with feature names\n",
      "X does not have valid feature names, but Ridge was fitted with feature names\n",
      "X does not have valid feature names, but Ridge was fitted with feature names\n",
      "X does not have valid feature names, but Ridge was fitted with feature names\n",
      "X does not have valid feature names, but Ridge was fitted with feature names\n",
      "X does not have valid feature names, but Ridge was fitted with feature names\n",
      "X does not have valid feature names, but Ridge was fitted with feature names\n",
      "X does not have valid feature names, but Ridge was fitted with feature names\n",
      "X does not have valid feature names, but Ridge was fitted with feature names\n",
      "X does not have valid feature names, but Ridge was fitted with feature names\n",
      "X does not have valid feature names, but Ridge was fitted with feature names\n",
      "X does not have valid feature names, but Ridge was fitted with feature names\n",
      "X does not have valid feature names, but Ridge was fitted with feature names\n",
      "X does not have valid feature names, but Ridge was fitted with feature names\n",
      "X does not have valid feature names, but Ridge was fitted with feature names\n",
      "X does not have valid feature names, but Ridge was fitted with feature names\n",
      "X does not have valid feature names, but Ridge was fitted with feature names\n",
      "X does not have valid feature names, but Ridge was fitted with feature names\n",
      "X does not have valid feature names, but Ridge was fitted with feature names\n",
      "X does not have valid feature names, but Ridge was fitted with feature names\n",
      "X does not have valid feature names, but Ridge was fitted with feature names\n",
      "X does not have valid feature names, but Ridge was fitted with feature names\n",
      "X does not have valid feature names, but Ridge was fitted with feature names\n",
      "X does not have valid feature names, but Ridge was fitted with feature names\n",
      "X does not have valid feature names, but Ridge was fitted with feature names\n",
      "X does not have valid feature names, but Ridge was fitted with feature names\n",
      "X does not have valid feature names, but Ridge was fitted with feature names\n",
      "X does not have valid feature names, but Ridge was fitted with feature names\n",
      "X does not have valid feature names, but Ridge was fitted with feature names\n",
      "X does not have valid feature names, but Ridge was fitted with feature names\n",
      "X does not have valid feature names, but Ridge was fitted with feature names\n",
      "X does not have valid feature names, but Ridge was fitted with feature names\n",
      "X does not have valid feature names, but Ridge was fitted with feature names\n",
      "X does not have valid feature names, but Ridge was fitted with feature names\n",
      "X does not have valid feature names, but Ridge was fitted with feature names\n",
      "X does not have valid feature names, but Ridge was fitted with feature names\n",
      "X does not have valid feature names, but Ridge was fitted with feature names\n",
      "X does not have valid feature names, but Ridge was fitted with feature names\n",
      "X does not have valid feature names, but Ridge was fitted with feature names\n",
      "X does not have valid feature names, but Ridge was fitted with feature names\n",
      "X does not have valid feature names, but Ridge was fitted with feature names\n",
      "X does not have valid feature names, but Ridge was fitted with feature names\n",
      "X does not have valid feature names, but Ridge was fitted with feature names\n",
      "X does not have valid feature names, but Ridge was fitted with feature names\n",
      "X does not have valid feature names, but Ridge was fitted with feature names\n",
      "X does not have valid feature names, but Ridge was fitted with feature names\n",
      "X does not have valid feature names, but Ridge was fitted with feature names\n",
      "X does not have valid feature names, but Ridge was fitted with feature names\n",
      "X does not have valid feature names, but Ridge was fitted with feature names\n",
      "X does not have valid feature names, but Ridge was fitted with feature names\n",
      "X does not have valid feature names, but Ridge was fitted with feature names\n",
      "X does not have valid feature names, but Ridge was fitted with feature names\n",
      "X does not have valid feature names, but Ridge was fitted with feature names\n",
      "X does not have valid feature names, but Ridge was fitted with feature names\n",
      "X does not have valid feature names, but Ridge was fitted with feature names\n",
      "X does not have valid feature names, but Ridge was fitted with feature names\n",
      "X does not have valid feature names, but Ridge was fitted with feature names\n",
      "X does not have valid feature names, but Ridge was fitted with feature names\n",
      "X does not have valid feature names, but Ridge was fitted with feature names\n",
      "X does not have valid feature names, but Ridge was fitted with feature names\n",
      "X does not have valid feature names, but Ridge was fitted with feature names\n",
      "X does not have valid feature names, but Ridge was fitted with feature names\n",
      "X does not have valid feature names, but Ridge was fitted with feature names\n",
      "X does not have valid feature names, but Ridge was fitted with feature names\n",
      "X does not have valid feature names, but Ridge was fitted with feature names\n",
      "X does not have valid feature names, but Ridge was fitted with feature names\n",
      "X does not have valid feature names, but Ridge was fitted with feature names\n",
      "X does not have valid feature names, but Ridge was fitted with feature names\n",
      "X does not have valid feature names, but Ridge was fitted with feature names\n",
      "X does not have valid feature names, but Ridge was fitted with feature names\n",
      "X does not have valid feature names, but Ridge was fitted with feature names\n",
      "X does not have valid feature names, but Ridge was fitted with feature names\n",
      "X does not have valid feature names, but Ridge was fitted with feature names\n",
      "X does not have valid feature names, but Ridge was fitted with feature names\n",
      "X does not have valid feature names, but Ridge was fitted with feature names\n",
      "X does not have valid feature names, but Ridge was fitted with feature names\n",
      "X does not have valid feature names, but Ridge was fitted with feature names\n",
      "X does not have valid feature names, but Ridge was fitted with feature names\n"
     ]
    },
    {
     "name": "stdout",
     "output_type": "stream",
     "text": [
      "16\n",
      "17\n",
      "18\n",
      "19\n",
      "20\n",
      "21\n",
      "22\n",
      "23\n",
      "24\n",
      "25\n",
      "26\n",
      "27\n",
      "28\n",
      "29\n"
     ]
    },
    {
     "name": "stderr",
     "output_type": "stream",
     "text": [
      "X does not have valid feature names, but Ridge was fitted with feature names\n",
      "X does not have valid feature names, but Ridge was fitted with feature names\n",
      "X does not have valid feature names, but Ridge was fitted with feature names\n",
      "X does not have valid feature names, but Ridge was fitted with feature names\n",
      "X does not have valid feature names, but Ridge was fitted with feature names\n",
      "X does not have valid feature names, but Ridge was fitted with feature names\n",
      "X does not have valid feature names, but Ridge was fitted with feature names\n",
      "X does not have valid feature names, but Ridge was fitted with feature names\n",
      "X does not have valid feature names, but Ridge was fitted with feature names\n",
      "X does not have valid feature names, but Ridge was fitted with feature names\n",
      "X does not have valid feature names, but Ridge was fitted with feature names\n",
      "X does not have valid feature names, but Ridge was fitted with feature names\n",
      "X does not have valid feature names, but Ridge was fitted with feature names\n",
      "X does not have valid feature names, but Ridge was fitted with feature names\n",
      "X does not have valid feature names, but Ridge was fitted with feature names\n",
      "X does not have valid feature names, but Ridge was fitted with feature names\n",
      "X does not have valid feature names, but Ridge was fitted with feature names\n",
      "X does not have valid feature names, but Ridge was fitted with feature names\n",
      "X does not have valid feature names, but Ridge was fitted with feature names\n",
      "X does not have valid feature names, but Ridge was fitted with feature names\n",
      "X does not have valid feature names, but Ridge was fitted with feature names\n",
      "X does not have valid feature names, but Ridge was fitted with feature names\n",
      "X does not have valid feature names, but Ridge was fitted with feature names\n",
      "X does not have valid feature names, but Ridge was fitted with feature names\n",
      "X does not have valid feature names, but Ridge was fitted with feature names\n",
      "X does not have valid feature names, but Ridge was fitted with feature names\n",
      "X does not have valid feature names, but Ridge was fitted with feature names\n",
      "X does not have valid feature names, but Ridge was fitted with feature names\n",
      "X does not have valid feature names, but Ridge was fitted with feature names\n",
      "X does not have valid feature names, but Ridge was fitted with feature names\n",
      "X does not have valid feature names, but Ridge was fitted with feature names\n",
      "X does not have valid feature names, but Ridge was fitted with feature names\n",
      "X does not have valid feature names, but Ridge was fitted with feature names\n",
      "X does not have valid feature names, but Ridge was fitted with feature names\n",
      "X does not have valid feature names, but Ridge was fitted with feature names\n",
      "X does not have valid feature names, but Ridge was fitted with feature names\n",
      "X does not have valid feature names, but Ridge was fitted with feature names\n",
      "X does not have valid feature names, but Ridge was fitted with feature names\n",
      "X does not have valid feature names, but Ridge was fitted with feature names\n",
      "X does not have valid feature names, but Ridge was fitted with feature names\n",
      "X does not have valid feature names, but Ridge was fitted with feature names\n",
      "X does not have valid feature names, but Ridge was fitted with feature names\n",
      "X does not have valid feature names, but Ridge was fitted with feature names\n",
      "X does not have valid feature names, but Ridge was fitted with feature names\n",
      "X does not have valid feature names, but Ridge was fitted with feature names\n",
      "X does not have valid feature names, but Ridge was fitted with feature names\n",
      "X does not have valid feature names, but Ridge was fitted with feature names\n",
      "X does not have valid feature names, but Ridge was fitted with feature names\n",
      "X does not have valid feature names, but Ridge was fitted with feature names\n",
      "X does not have valid feature names, but Ridge was fitted with feature names\n",
      "X does not have valid feature names, but Ridge was fitted with feature names\n",
      "X does not have valid feature names, but Ridge was fitted with feature names\n",
      "X does not have valid feature names, but Ridge was fitted with feature names\n",
      "X does not have valid feature names, but Ridge was fitted with feature names\n",
      "X does not have valid feature names, but Ridge was fitted with feature names\n",
      "X does not have valid feature names, but Ridge was fitted with feature names\n",
      "X does not have valid feature names, but Ridge was fitted with feature names\n",
      "X does not have valid feature names, but Ridge was fitted with feature names\n",
      "X does not have valid feature names, but Ridge was fitted with feature names\n",
      "X does not have valid feature names, but Ridge was fitted with feature names\n",
      "X does not have valid feature names, but Ridge was fitted with feature names\n",
      "X does not have valid feature names, but Ridge was fitted with feature names\n",
      "X does not have valid feature names, but Ridge was fitted with feature names\n",
      "X does not have valid feature names, but Ridge was fitted with feature names\n",
      "X does not have valid feature names, but Ridge was fitted with feature names\n",
      "X does not have valid feature names, but Ridge was fitted with feature names\n",
      "X does not have valid feature names, but Ridge was fitted with feature names\n",
      "X does not have valid feature names, but Ridge was fitted with feature names\n",
      "X does not have valid feature names, but Ridge was fitted with feature names\n",
      "X does not have valid feature names, but Ridge was fitted with feature names\n",
      "X does not have valid feature names, but Ridge was fitted with feature names\n",
      "X does not have valid feature names, but Ridge was fitted with feature names\n",
      "X does not have valid feature names, but Ridge was fitted with feature names\n",
      "X does not have valid feature names, but Ridge was fitted with feature names\n",
      "X does not have valid feature names, but Ridge was fitted with feature names\n",
      "X does not have valid feature names, but Ridge was fitted with feature names\n",
      "X does not have valid feature names, but Ridge was fitted with feature names\n",
      "X does not have valid feature names, but Ridge was fitted with feature names\n",
      "X does not have valid feature names, but Ridge was fitted with feature names\n",
      "X does not have valid feature names, but Ridge was fitted with feature names\n",
      "X does not have valid feature names, but Ridge was fitted with feature names\n",
      "X does not have valid feature names, but Ridge was fitted with feature names\n",
      "X does not have valid feature names, but Ridge was fitted with feature names\n",
      "X does not have valid feature names, but Ridge was fitted with feature names\n",
      "X does not have valid feature names, but Ridge was fitted with feature names\n",
      "X does not have valid feature names, but Ridge was fitted with feature names\n",
      "X does not have valid feature names, but Ridge was fitted with feature names\n",
      "X does not have valid feature names, but Ridge was fitted with feature names\n",
      "X does not have valid feature names, but Ridge was fitted with feature names\n",
      "X does not have valid feature names, but Ridge was fitted with feature names\n",
      "X does not have valid feature names, but Ridge was fitted with feature names\n",
      "X does not have valid feature names, but Ridge was fitted with feature names\n",
      "X does not have valid feature names, but Ridge was fitted with feature names\n",
      "X does not have valid feature names, but Ridge was fitted with feature names\n",
      "X does not have valid feature names, but Ridge was fitted with feature names\n",
      "X does not have valid feature names, but Ridge was fitted with feature names\n",
      "X does not have valid feature names, but Ridge was fitted with feature names\n",
      "X does not have valid feature names, but Ridge was fitted with feature names\n",
      "X does not have valid feature names, but Ridge was fitted with feature names\n",
      "X does not have valid feature names, but Ridge was fitted with feature names\n",
      "X does not have valid feature names, but Ridge was fitted with feature names\n",
      "X does not have valid feature names, but Ridge was fitted with feature names\n",
      "X does not have valid feature names, but Ridge was fitted with feature names\n",
      "X does not have valid feature names, but Ridge was fitted with feature names\n",
      "X does not have valid feature names, but Ridge was fitted with feature names\n",
      "X does not have valid feature names, but Ridge was fitted with feature names\n",
      "X does not have valid feature names, but Ridge was fitted with feature names\n",
      "X does not have valid feature names, but Ridge was fitted with feature names\n",
      "X does not have valid feature names, but Ridge was fitted with feature names\n",
      "X does not have valid feature names, but Ridge was fitted with feature names\n",
      "X does not have valid feature names, but Ridge was fitted with feature names\n",
      "X does not have valid feature names, but Ridge was fitted with feature names\n",
      "X does not have valid feature names, but Ridge was fitted with feature names\n",
      "X does not have valid feature names, but Ridge was fitted with feature names\n",
      "X does not have valid feature names, but Ridge was fitted with feature names\n",
      "X does not have valid feature names, but Ridge was fitted with feature names\n",
      "X does not have valid feature names, but Ridge was fitted with feature names\n",
      "X does not have valid feature names, but Ridge was fitted with feature names\n",
      "X does not have valid feature names, but Ridge was fitted with feature names\n",
      "X does not have valid feature names, but Ridge was fitted with feature names\n",
      "X does not have valid feature names, but Ridge was fitted with feature names\n",
      "X does not have valid feature names, but Ridge was fitted with feature names\n",
      "X does not have valid feature names, but Ridge was fitted with feature names\n",
      "X does not have valid feature names, but Ridge was fitted with feature names\n",
      "X does not have valid feature names, but Ridge was fitted with feature names\n",
      "X does not have valid feature names, but Ridge was fitted with feature names\n",
      "X does not have valid feature names, but Ridge was fitted with feature names\n",
      "X does not have valid feature names, but Ridge was fitted with feature names\n",
      "X does not have valid feature names, but Ridge was fitted with feature names\n",
      "X does not have valid feature names, but Ridge was fitted with feature names\n",
      "X does not have valid feature names, but Ridge was fitted with feature names\n",
      "X does not have valid feature names, but Ridge was fitted with feature names\n",
      "X does not have valid feature names, but Ridge was fitted with feature names\n",
      "X does not have valid feature names, but Ridge was fitted with feature names\n",
      "X does not have valid feature names, but Ridge was fitted with feature names\n",
      "X does not have valid feature names, but Ridge was fitted with feature names\n",
      "X does not have valid feature names, but Ridge was fitted with feature names\n",
      "X does not have valid feature names, but Ridge was fitted with feature names\n",
      "X does not have valid feature names, but Ridge was fitted with feature names\n",
      "X does not have valid feature names, but Ridge was fitted with feature names\n",
      "X does not have valid feature names, but Ridge was fitted with feature names\n",
      "X does not have valid feature names, but Ridge was fitted with feature names\n",
      "X does not have valid feature names, but Ridge was fitted with feature names\n",
      "X does not have valid feature names, but Ridge was fitted with feature names\n",
      "X does not have valid feature names, but Ridge was fitted with feature names\n",
      "X does not have valid feature names, but Ridge was fitted with feature names\n",
      "X does not have valid feature names, but Ridge was fitted with feature names\n",
      "X does not have valid feature names, but Ridge was fitted with feature names\n",
      "X does not have valid feature names, but Ridge was fitted with feature names\n",
      "X does not have valid feature names, but Ridge was fitted with feature names\n",
      "X does not have valid feature names, but Ridge was fitted with feature names\n",
      "X does not have valid feature names, but Ridge was fitted with feature names\n",
      "X does not have valid feature names, but Ridge was fitted with feature names\n",
      "X does not have valid feature names, but Ridge was fitted with feature names\n",
      "X does not have valid feature names, but Ridge was fitted with feature names\n",
      "X does not have valid feature names, but Ridge was fitted with feature names\n",
      "X does not have valid feature names, but Ridge was fitted with feature names\n",
      "X does not have valid feature names, but Ridge was fitted with feature names\n",
      "X does not have valid feature names, but Ridge was fitted with feature names\n",
      "X does not have valid feature names, but Ridge was fitted with feature names\n",
      "X does not have valid feature names, but Ridge was fitted with feature names\n",
      "X does not have valid feature names, but Ridge was fitted with feature names\n",
      "X does not have valid feature names, but Ridge was fitted with feature names\n",
      "X does not have valid feature names, but Ridge was fitted with feature names\n",
      "X does not have valid feature names, but Ridge was fitted with feature names\n",
      "X does not have valid feature names, but Ridge was fitted with feature names\n",
      "X does not have valid feature names, but Ridge was fitted with feature names\n",
      "X does not have valid feature names, but Ridge was fitted with feature names\n",
      "X does not have valid feature names, but Ridge was fitted with feature names\n",
      "X does not have valid feature names, but Ridge was fitted with feature names\n",
      "X does not have valid feature names, but Ridge was fitted with feature names\n",
      "X does not have valid feature names, but Ridge was fitted with feature names\n",
      "X does not have valid feature names, but Ridge was fitted with feature names\n",
      "X does not have valid feature names, but Ridge was fitted with feature names\n",
      "X does not have valid feature names, but Ridge was fitted with feature names\n",
      "X does not have valid feature names, but Ridge was fitted with feature names\n",
      "X does not have valid feature names, but Ridge was fitted with feature names\n",
      "X does not have valid feature names, but Ridge was fitted with feature names\n",
      "X does not have valid feature names, but Ridge was fitted with feature names\n",
      "X does not have valid feature names, but Ridge was fitted with feature names\n",
      "X does not have valid feature names, but Ridge was fitted with feature names\n",
      "X does not have valid feature names, but Ridge was fitted with feature names\n",
      "X does not have valid feature names, but Ridge was fitted with feature names\n",
      "X does not have valid feature names, but Ridge was fitted with feature names\n",
      "X does not have valid feature names, but Ridge was fitted with feature names\n",
      "X does not have valid feature names, but Ridge was fitted with feature names\n",
      "X does not have valid feature names, but Ridge was fitted with feature names\n",
      "X does not have valid feature names, but Ridge was fitted with feature names\n",
      "X does not have valid feature names, but Ridge was fitted with feature names\n",
      "X does not have valid feature names, but Ridge was fitted with feature names\n",
      "X does not have valid feature names, but Ridge was fitted with feature names\n",
      "X does not have valid feature names, but Ridge was fitted with feature names\n",
      "X does not have valid feature names, but Ridge was fitted with feature names\n",
      "X does not have valid feature names, but Ridge was fitted with feature names\n",
      "X does not have valid feature names, but Ridge was fitted with feature names\n",
      "X does not have valid feature names, but Ridge was fitted with feature names\n"
     ]
    }
   ],
   "source": [
    "turn=30\n",
    "saveimps,df_1=var_fi(boston, turn)\n"
   ]
  },
  {
   "cell_type": "code",
   "execution_count": 185,
   "id": "44f51f04",
   "metadata": {},
   "outputs": [
    {
     "data": {
      "text/plain": [
       "Text(0, 0.5, 'Feature importance Variance')"
      ]
     },
     "execution_count": 185,
     "metadata": {},
     "output_type": "execute_result"
    },
    {
     "data": {
      "image/png": "[encoded data removed]",
      "text/plain": [
       "<Figure size 576x288 with 1 Axes>"
      ]
     },
     "metadata": {},
     "output_type": "display_data"
    }
   ],
   "source": [
    "plt.figure(figsize = (8,4))\n",
    "plt.errorbar( X.columns, df_1['relative_mean'], yerr=r[\"importances_std\"], fmt='o', color='Black', elinewidth=1,capthick=2,errorevery=1, alpha=1, ms=2, capsize = 5)\n",
    "plt.bar(X.columns, df_1['relative_mean'],tick_label = X.columns)##Bar plot\n",
    "plt.xlabel('Model') ## Label on X axis\n",
    "plt.ylabel('Feature importance Variance') ##Label on Y axis\n",
    "\n"
   ]
  },
  {
   "cell_type": "code",
   "execution_count": 186,
   "id": "a82989d4",
   "metadata": {},
   "outputs": [],
   "source": [
    "#Calculate p-value\n",
    "\n",
    "def pvalue_fi(data,runs):\n",
    "    null_imp_df = pd.DataFrame()\n",
    "    nb_runs = runs\n",
    "    start = time.time()\n",
    "    data_X=pd.DataFrame(np.hstack((data.data,data.target.reshape(-1,1))))\n",
    "    add_counts=np.zeros((data_X.shape[1])-1)\n",
    "    X_train, X_val, y_train, y_val = train_test_split(data_X.iloc[:,:-1], data_X.iloc[:,-1])\n",
    "    baseline_imp_df = dropcol_importances(model, rsquared,X_train, y_train,X_val, y_val)\n",
    "    for i in range(nb_runs):\n",
    "        y_train=y_train.sample(frac=1, replace=False)\n",
    "        upd_imp_df = dropcol_importances(model, rsquared,X_train, y_train,X_val, y_val)\n",
    "        conditn=np.where(((np.array(upd_imp_df)[:,1]-np.array(baseline_imp_df)[:,1]))>=0,1,0)\n",
    "        gain_loss=pd.DataFrame(((np.array(upd_imp_df)[:,1])))\n",
    "        add_counts=add_counts+conditn\n",
    "        intm_df=pd.concat([pd.DataFrame(np.arange(X_train.shape[1])), pd.DataFrame(conditn),gain_loss], axis=1)\n",
    "        intm_df.columns=['col','count','gain_loss']\n",
    "        intm_df['run'] = i + 1 \n",
    "        null_imp_df = pd.concat([null_imp_df, intm_df], axis=0)\n",
    "        #if i%10==0:\n",
    "            #print(i)\n",
    "\n",
    "    add_counts=(add_counts*1.00)/(nb_runs)\n",
    "    thresh=np.where(np.array(add_counts)>=0.05,0,1)\n",
    "    baseline_imp_df=pd.DataFrame(baseline_imp_df,columns=['col','gain_loss'])\n",
    "    return add_counts,thresh,null_imp_df,baseline_imp_df\n",
    "\n"
   ]
  },
  {
   "cell_type": "code",
   "execution_count": 187,
   "id": "a621854b",
   "metadata": {},
   "outputs": [],
   "source": [
    "counts,selected,vi_df,bdf=pvalue_fi(boston,200)"
   ]
  },
  {
   "cell_type": "code",
   "execution_count": 197,
   "id": "e9165f3d",
   "metadata": {},
   "outputs": [
    {
     "data": {
      "text/plain": [
       "Index(['CRIM', 'ZN', 'INDUS', 'CHAS', 'NOX', 'RM', 'AGE', 'DIS', 'RAD', 'TAX',\n",
       "       'PTRATIO', 'B', 'LSTAT'],\n",
       "      dtype='object')"
      ]
     },
     "execution_count": 197,
     "metadata": {},
     "output_type": "execute_result"
    }
   ],
   "source": [
    "X.columns"
   ]
  },
  {
   "cell_type": "code",
   "execution_count": 198,
   "id": "875b95ac",
   "metadata": {},
   "outputs": [
    {
     "data": {
      "image/png": "[encoded data removed]",
      "text/plain": [
       "<Figure size 432x288 with 1 Axes>"
      ]
     },
     "metadata": {},
     "output_type": "display_data"
    }
   ],
   "source": [
    "plt.hist(vi_df.loc[vi_df['col']==12,'gain_loss'].values,label='Null importances')\n",
    "plt.vlines(bdf.loc[bdf['col']==12,'gain_loss'].values, ymin=0, ymax=100,color='r',linewidth=3, label='Real Target')\n",
    "plt.vlines(vi_df.loc[vi_df['col']==12,'gain_loss'].mean(), ymin=0, ymax=100,color='black',linewidth=1, label='Mean of Distribution')\n",
    "#plt.xlim(xmin=-0.15, xmax = 0.15)\n",
    "plt.title('Drop Column Importance of LSTAT', fontweight='bold')\n",
    "plt.show()"
   ]
  },
  {
   "cell_type": "code",
   "execution_count": 199,
   "id": "3b3f5f04",
   "metadata": {},
   "outputs": [
    {
     "data": {
      "image/png": "[encoded data removed]",
      "text/plain": [
       "<Figure size 432x288 with 1 Axes>"
      ]
     },
     "metadata": {},
     "output_type": "display_data"
    }
   ],
   "source": [
    "plt.hist(vi_df.loc[vi_df['col']==10,'gain_loss'].values,label='Null importances')\n",
    "plt.vlines(bdf.loc[bdf['col']==10,'gain_loss'].values, ymin=0, ymax=100,color='r',linewidth=3, label='Real Target')\n",
    "plt.vlines(vi_df.loc[vi_df['col']==10,'gain_loss'].mean(), ymin=0, ymax=100,color='black',linewidth=1, label='Mean of Distribution')\n",
    "plt.title('Drop Column Importance of PTRATIO', fontweight='bold')\n",
    "plt.show()"
   ]
  },
  {
   "cell_type": "code",
   "execution_count": 21,
   "id": "5d1ec561",
   "metadata": {},
   "outputs": [],
   "source": [
    "X = pd.DataFrame(boston.data, columns=boston.feature_names)\n",
    "y = boston.target"
   ]
  },
  {
   "cell_type": "code",
   "execution_count": 95,
   "id": "8838ef9d",
   "metadata": {},
   "outputs": [
    {
     "data": {
      "text/plain": [
       "8"
      ]
     },
     "execution_count": 95,
     "metadata": {},
     "output_type": "execute_result"
    }
   ],
   "source": [
    "len(selected[:,0])"
   ]
  },
  {
   "cell_type": "code",
   "execution_count": 174,
   "id": "c5d5a160",
   "metadata": {},
   "outputs": [],
   "source": [
    "def plot_selc(X,k):\n",
    "    results = []   \n",
    "    for i in range(1,k+1):\n",
    "        X = pd.DataFrame(boston.data, columns=boston.feature_names)\n",
    "        y = boston.target\n",
    "        filtered_data=X.iloc[:,selected[:,0]]\n",
    "        X=filtered_data[filtered_data.columns[:i]]\n",
    "        models = []\n",
    "        #models.append(('Ridge', Ridge(1e-5)))\n",
    "        models.append(('OLS', LinearRegression()))\n",
    "        models.append(('RF', RandomForestRegressor()))\n",
    "        models.append(('XGB', xgb.XGBRegressor()))\n",
    "        names = []\n",
    "        scoring = 'neg_mean_absolute_error'\n",
    "        for name, model in models:\n",
    "            kfold = ms.KFold(n_splits=10)\n",
    "            cv_results = ms.cross_val_score(model, X, y, cv=kfold, scoring=scoring)\n",
    "            results.append((name,i,cv_results.mean()))\n",
    "            names.append(name)\n",
    "            msg = \"%s: %f (%f)\" % (name, cv_results.mean(), cv_results.std())\n",
    "            print(msg)\n",
    "\n",
    "    return results"
   ]
  },
  {
   "cell_type": "code",
   "execution_count": 175,
   "id": "23502aa5",
   "metadata": {},
   "outputs": [
    {
     "name": "stdout",
     "output_type": "stream",
     "text": [
      "OLS: -6.288458 (2.208258)\n",
      "RF: -7.745267 (2.202899)\n",
      "XGB: -6.724160 (1.986992)\n",
      "OLS: -6.235139 (2.300066)\n",
      "RF: -7.071103 (1.983474)\n",
      "XGB: -6.393247 (1.960591)\n",
      "OLS: -5.215537 (1.903365)\n",
      "RF: -6.452412 (2.536006)\n",
      "XGB: -5.733966 (1.786597)\n",
      "OLS: -5.245020 (1.844193)\n",
      "RF: -6.224869 (2.610519)\n",
      "XGB: -5.794624 (1.910367)\n",
      "OLS: -5.234591 (1.898231)\n",
      "RF: -6.308920 (2.767562)\n",
      "XGB: -5.629747 (1.721443)\n",
      "OLS: -5.198449 (1.878228)\n",
      "RF: -5.389865 (1.544311)\n",
      "XGB: -5.098916 (1.466843)\n",
      "OLS: -5.349665 (2.065385)\n",
      "RF: -5.532685 (1.509434)\n",
      "XGB: -5.209621 (1.568705)\n",
      "OLS: -4.076282 (1.091513)\n",
      "RF: -3.553962 (1.003554)\n",
      "XGB: -3.520358 (1.062123)\n"
     ]
    }
   ],
   "source": [
    "results=plot_selc(X,len(selected[:,0]-2))"
   ]
  },
  {
   "cell_type": "code",
   "execution_count": 176,
   "id": "2071c5a2",
   "metadata": {},
   "outputs": [],
   "source": [
    "results_df=pd.DataFrame(results,columns=['Model','K','MAPE'])"
   ]
  },
  {
   "cell_type": "code",
   "execution_count": 177,
   "id": "f8c1aa69",
   "metadata": {},
   "outputs": [],
   "source": [
    "pivot_table_df = pd.pivot_table(\n",
    "    results_df,\n",
    "    index='K',\n",
    "    columns='Model',\n",
    "    values='MAPE',\n",
    "    aggfunc=np.sum,\n",
    "    margins=True\n",
    ")"
   ]
  },
  {
   "cell_type": "code",
   "execution_count": 178,
   "id": "38a2b1ad",
   "metadata": {},
   "outputs": [],
   "source": [
    "pivot_table_df=pivot_table_df[pivot_table_df.columns[:3]]"
   ]
  },
  {
   "cell_type": "code",
   "execution_count": 182,
   "id": "7a661d15",
   "metadata": {},
   "outputs": [
    {
     "data": {
      "text/html": [
       "<div>\n",
       "<style scoped>\n",
       "    .dataframe tbody tr th:only-of-type {\n",
       "        vertical-align: middle;\n",
       "    }\n",
       "\n",
       "    .dataframe tbody tr th {\n",
       "        vertical-align: top;\n",
       "    }\n",
       "\n",
       "    .dataframe thead th {\n",
       "        text-align: right;\n",
       "    }\n",
       "</style>\n",
       "<table border=\"1\" class=\"dataframe\">\n",
       "  <thead>\n",
       "    <tr style=\"text-align: right;\">\n",
       "      <th>Model</th>\n",
       "      <th>OLS</th>\n",
       "      <th>RF</th>\n",
       "      <th>XGB</th>\n",
       "    </tr>\n",
       "    <tr>\n",
       "      <th>K</th>\n",
       "      <th></th>\n",
       "      <th></th>\n",
       "      <th></th>\n",
       "    </tr>\n",
       "  </thead>\n",
       "  <tbody>\n",
       "    <tr>\n",
       "      <th>1</th>\n",
       "      <td>-6.288458</td>\n",
       "      <td>-7.745267</td>\n",
       "      <td>-6.724160</td>\n",
       "    </tr>\n",
       "    <tr>\n",
       "      <th>2</th>\n",
       "      <td>-6.235139</td>\n",
       "      <td>-7.071103</td>\n",
       "      <td>-6.393247</td>\n",
       "    </tr>\n",
       "    <tr>\n",
       "      <th>3</th>\n",
       "      <td>-5.215537</td>\n",
       "      <td>-6.452412</td>\n",
       "      <td>-5.733966</td>\n",
       "    </tr>\n",
       "    <tr>\n",
       "      <th>4</th>\n",
       "      <td>-5.245020</td>\n",
       "      <td>-6.224869</td>\n",
       "      <td>-5.794624</td>\n",
       "    </tr>\n",
       "    <tr>\n",
       "      <th>5</th>\n",
       "      <td>-5.234591</td>\n",
       "      <td>-6.308920</td>\n",
       "      <td>-5.629747</td>\n",
       "    </tr>\n",
       "    <tr>\n",
       "      <th>6</th>\n",
       "      <td>-5.198449</td>\n",
       "      <td>-5.389865</td>\n",
       "      <td>-5.098916</td>\n",
       "    </tr>\n",
       "    <tr>\n",
       "      <th>7</th>\n",
       "      <td>-5.349665</td>\n",
       "      <td>-5.532685</td>\n",
       "      <td>-5.209621</td>\n",
       "    </tr>\n",
       "    <tr>\n",
       "      <th>8</th>\n",
       "      <td>-4.076282</td>\n",
       "      <td>-3.553962</td>\n",
       "      <td>-3.520358</td>\n",
       "    </tr>\n",
       "  </tbody>\n",
       "</table>\n",
       "</div>"
      ],
      "text/plain": [
       "Model       OLS        RF       XGB\n",
       "K                                  \n",
       "1     -6.288458 -7.745267 -6.724160\n",
       "2     -6.235139 -7.071103 -6.393247\n",
       "3     -5.215537 -6.452412 -5.733966\n",
       "4     -5.245020 -6.224869 -5.794624\n",
       "5     -5.234591 -6.308920 -5.629747\n",
       "6     -5.198449 -5.389865 -5.098916\n",
       "7     -5.349665 -5.532685 -5.209621\n",
       "8     -4.076282 -3.553962 -3.520358"
      ]
     },
     "execution_count": 182,
     "metadata": {},
     "output_type": "execute_result"
    }
   ],
   "source": [
    "pivot_table_df"
   ]
  },
  {
   "cell_type": "code",
   "execution_count": 183,
   "id": "7a224e7e",
   "metadata": {},
   "outputs": [],
   "source": [
    "pivot_table_df= pivot_table_df[:-1]"
   ]
  },
  {
   "cell_type": "code",
   "execution_count": 221,
   "id": "2d45fbda",
   "metadata": {},
   "outputs": [
    {
     "data": {
      "text/plain": [
       "Text(0.5, 1.0, 'Comparison of Algorithms for Top K features')"
      ]
     },
     "execution_count": 221,
     "metadata": {},
     "output_type": "execute_result"
    },
    {
     "data": {
      "image/png": "[encoded data removed]",
      "text/plain": [
       "<Figure size 576x288 with 1 Axes>"
      ]
     },
     "metadata": {},
     "output_type": "display_data"
    }
   ],
   "source": [
    "plt.figure(figsize = (8,4))\n",
    "sb.lineplot(data=pivot_table_df.abs(),markers=True, dashes=False,err_style=\"bars\")\n",
    "plt.xlabel('K(Number of top features selected)')\n",
    "plt.ylabel('MAPE') \n",
    "plt.title('Comparison of Algorithms for Top K features')\n"
   ]
  },
  {
   "cell_type": "code",
   "execution_count": 165,
   "id": "8ad9c9f4",
   "metadata": {},
   "outputs": [],
   "source": [
    "# fig = plt.figure()\n",
    "# fig.suptitle('Algorithm Comparison')\n",
    "# ax = fig.add_subplot(111)\n",
    "# plt.boxplot(results)\n",
    "# ax.set_xticklabels(names)\n",
    "# plt.show()"
   ]
  },
  {
   "cell_type": "code",
   "execution_count": null,
   "id": "8e7412a9",
   "metadata": {},
   "outputs": [],
   "source": []
  },
  {
   "cell_type": "code",
   "execution_count": null,
   "id": "4eb05b02",
   "metadata": {},
   "outputs": [],
   "source": []
  }
 ],
 "metadata": {
  "kernelspec": {
   "display_name": "Python 3 (ipykernel)",
   "language": "python",
   "name": "python3"
  },
  "language_info": {
   "codemirror_mode": {
    "name": "ipython",
    "version": 3
   },
   "file_extension": ".py",
   "mimetype": "text/x-python",
   "name": "python",
   "nbconvert_exporter": "python",
   "pygments_lexer": "ipython3",
   "version": "3.8.11"
  }
 },
 "nbformat": 4,
 "nbformat_minor": 5
}
